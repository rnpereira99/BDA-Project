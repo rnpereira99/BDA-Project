{
 "cells": [
  {
   "cell_type": "markdown",
   "metadata": {
    "application/vnd.databricks.v1+cell": {
     "cellMetadata": {
      "byteLimit": 2048000,
      "rowLimit": 10000
     },
     "inputWidgets": {},
     "nuid": "ccb34557-5477-4566-a31c-1a72b8fc8229",
     "showTitle": false,
     "tableResultSettingsMap": {},
     "title": ""
    }
   },
   "source": [
    "<div class=\"alert alert-block alert-info\">\n",
    "<center> <h1> Customer Segmentation and Sales Forecast</h1> </center> <br>\n",
    "<center> Big Data Analytics 2025</center><br>\n",
    "<center> NOVA IMS MDSAA</center>"
   ]
  },
  {
   "cell_type": "markdown",
   "metadata": {
    "application/vnd.databricks.v1+cell": {
     "cellMetadata": {
      "byteLimit": 2048000,
      "rowLimit": 10000
     },
     "inputWidgets": {},
     "nuid": "2c031e5a-f3df-4924-ab30-73b135e0be45",
     "showTitle": false,
     "tableResultSettingsMap": {},
     "title": ""
    }
   },
   "source": [
    "### [NOTE]\n",
    "In this project, we are going to work on 3 notebooks:\n",
    "- 1. Cleaning: For EDA and Data Preprocessing\n",
    "- 2. Clustering: For clustering \n",
    "- 3. Project Forecasting: For Sales Forecast. <br>\n",
    "##### *This notebook is 3. Project Forecasting.*"
   ]
  },
  {
   "cell_type": "markdown",
   "metadata": {
    "application/vnd.databricks.v1+cell": {
     "cellMetadata": {
      "byteLimit": 2048000,
      "rowLimit": 10000
     },
     "inputWidgets": {},
     "nuid": "7132f967-d718-4935-95df-09f91160a3e6",
     "showTitle": false,
     "tableResultSettingsMap": {},
     "title": ""
    }
   },
   "source": [
    "# Group 77\n",
    "\n",
    "|   | Student Name          |  Student ID | \n",
    "|---|-----------------------|    ---      |\n",
    "| 1 | Hassan Bhatti       |  20241022 |\n",
    "| 2 | Moeko Mitani          |   20240670  | \n",
    "| 3 | Oumayma Ben Hfaiedh   |   20240699  | \n",
    "| 4 | Ricardo Pereira      |  20240745  | "
   ]
  },
  {
   "cell_type": "markdown",
   "metadata": {
    "application/vnd.databricks.v1+cell": {
     "cellMetadata": {
      "byteLimit": 2048000,
      "rowLimit": 10000
     },
     "inputWidgets": {},
     "nuid": "add63d44-4808-4637-b5c1-b07c1d5c6c80",
     "showTitle": false,
     "tableResultSettingsMap": {},
     "title": ""
    }
   },
   "source": [
    "# Business Understanding"
   ]
  },
  {
   "cell_type": "markdown",
   "metadata": {
    "application/vnd.databricks.v1+cell": {
     "cellMetadata": {
      "byteLimit": 2048000,
      "rowLimit": 10000
     },
     "inputWidgets": {},
     "nuid": "926471c9-eb61-4580-bcb7-e0603bfcf3dc",
     "showTitle": false,
     "tableResultSettingsMap": {},
     "title": ""
    }
   },
   "source": [
    "## Business Background\n",
    "\n",
    "The retail industry is undergoing a significant transformation. Online retail shopping has become an absolute necessity to compete for business, and with that change comes new challenges, especially in niche areas such as gift items. As customer expectations rise and buying habits become more complex, retailers can no longer rely solely on intuition to gauge demand or manage inventory. They must become data-driven.\n",
    "\n",
    "The Company is a UK-based online retailer of giftware, primarily serving wholesale customers. This segment of the business has additional operational complexities, including high volume purchases, unpredictable seasonality (especially during the holiday season), and a customer base divided between loyal repeat buyers and one-time, resourceful purchasers. What appears to be a simple transaction flow is in fact a rich and dynamic stream of behavioral data waiting to be deciphered.\n",
    "\n",
    "In this environment, traditional data tools are not enough. Forecasting demand and understanding customers requires a scalable and intelligent approach. It is a reflection of how large companies are processing huge, fast-moving data sets. The limited size of current data sets is a microcosm of the data volume, velocity, and diversity challenges faced by growing online retailers.\n",
    "\n",
    "## Business Objectives\n",
    "\n",
    "The overarching goal of this project is to empower a growing online retailer with the analytical tools needed to make smarter, data-driven decisions in two critical areas: customer understanding and demand forecasting.\n",
    "\n",
    "#### 1. Customer Segmentation\n",
    "The first objective is to uncover meaningful customer segments based on their purchasing behavior. Not all customers bring the same value or behave in the same way, some make frequent low-volume purchases, others buy in bulk seasonally, and some engage in erratic patterns that may suggest churn risk or opportunistic buying.<br>\n",
    "By applying clustering techniques, we aim to:\n",
    "- Identify distinct customer personas (e.g., \"Loyal Wholesalers\", \"Occasional Retailers\", \"Holiday Shoppers\")\n",
    "- Reveal behavioral patterns that can inform targeted marketing and personalized recommendations\n",
    "- Provide insights to improve customer retention and lifetime value\n",
    "\n",
    "This segmentation will form the foundation for more tailored engagement strategies, allowing the retailer to move away from one-size-fits-all campaigns toward data-informed personalization.\n",
    "\n",
    "#### 2. Sales Forecasting\n",
    "The second objective is to develop a predictive model that estimates future sales based on historical transaction data. \n",
    "Accurate forecasting is essential for:\n",
    "- Optimizing inventory levels and reducing both stockouts and overstock situations\n",
    "- Aligning operational planning with expected demand spikes (e.g., during holiday seasons)\n",
    "- Informing pricing and promotional strategies\n",
    "\n",
    "By implementing time-series forecasting models, we will simulate a pipeline that can evolve into a real-time prediction engine in a production environment.\n",
    "\n",
    "Together, these two objectives aim to shift the retailer's operations from reactive to proactive - transforming historical data into strategic insights that drive growth, efficiency, and customer satisfaction.\n",
    "\n",
    "## Business Success Criteria\n",
    "\n",
    "We defined success with both quantitative and qualitative criteria:\n",
    "\n",
    "WIP\n"
   ]
  },
  {
   "cell_type": "markdown",
   "metadata": {
    "application/vnd.databricks.v1+cell": {
     "cellMetadata": {
      "byteLimit": 2048000,
      "rowLimit": 10000
     },
     "inputWidgets": {},
     "nuid": "3d8f6396-2dad-4bec-bc47-6882dd60a32d",
     "showTitle": false,
     "tableResultSettingsMap": {},
     "title": ""
    }
   },
   "source": [
    "# Metadata"
   ]
  },
  {
   "cell_type": "markdown",
   "metadata": {
    "application/vnd.databricks.v1+cell": {
     "cellMetadata": {
      "byteLimit": 2048000,
      "rowLimit": 10000
     },
     "inputWidgets": {},
     "nuid": "a2699304-02c9-4763-ba0c-31ea7dcfcd83",
     "showTitle": false,
     "tableResultSettingsMap": {},
     "title": ""
    }
   },
   "source": [
    "| Features | Descriptions |\n",
    "|---------|---------------------|\n",
    "| *ID* | Customer ID |\n",
    "| *Invoice* | Invoice number. Nominal. A 6-digit integral number uniquely assigned to each transaction. If this code starts with the letter 'c', it indicates a cancellation. |\n",
    "| *StockCode* | Product (item) code. Nominal. A 5-digit integral number uniquely assigned to each distinct product. |\n",
    "| *Description* | Product (item) name. Nominal. |\n",
    "| *Quantity* | The quantities of each product (item) per transaction. Numeric. |\n",
    "| *InvoiceDate* | Invoice date and time. Numeric. The day and time when a transaction was generated. |\n",
    "| *Price* | Unit price. Numeric. Product price per unit in sterling (Â£). |\n",
    "| *Customer ID* | Customer number. Nominal. A 5-digit integral number uniquely assigned to each customer. |\n",
    "| *Country* | Country name. Nominal. The name of the country where a customer resides. |"
   ]
  },
  {
   "cell_type": "markdown",
   "metadata": {
    "application/vnd.databricks.v1+cell": {
     "cellMetadata": {
      "byteLimit": 2048000,
      "rowLimit": 10000
     },
     "inputWidgets": {},
     "nuid": "9a129086-0172-44c5-aba6-80d561400c5d",
     "showTitle": false,
     "tableResultSettingsMap": {},
     "title": ""
    }
   },
   "source": [
    "# Data Integration "
   ]
  },
  {
   "cell_type": "markdown",
   "metadata": {
    "application/vnd.databricks.v1+cell": {
     "cellMetadata": {
      "byteLimit": 2048000,
      "rowLimit": 10000
     },
     "inputWidgets": {},
     "nuid": "73cfb775-675c-4aa3-a0be-4dfb393a2fa3",
     "showTitle": false,
     "tableResultSettingsMap": {},
     "title": ""
    }
   },
   "source": [
    "## Import Libraries"
   ]
  },
  {
   "cell_type": "code",
   "execution_count": 0,
   "metadata": {
    "application/vnd.databricks.v1+cell": {
     "cellMetadata": {
      "byteLimit": 2048000,
      "rowLimit": 10000
     },
     "inputWidgets": {},
     "nuid": "048f0c05-b9ca-414d-b895-3014125f3c97",
     "showTitle": false,
     "tableResultSettingsMap": {},
     "title": ""
    }
   },
   "outputs": [],
   "source": [
    "from pyspark.sql import SparkSession\n",
    "from pyspark.ml.feature import VectorAssembler, PCA\n",
    "from pyspark.ml.clustering import KMeans\n",
    "from pyspark.ml.evaluation import ClusteringEvaluator\n",
    "from pyspark.ml.feature import StringIndexer, VectorAssembler, StandardScaler, PCA\n",
    "from pyspark.ml import Pipeline\n",
    "import seaborn as sns\n",
    "import matplotlib.pyplot as plt\n",
    "import pandas as pd\n",
    "import numpy as np\n",
    "from matplotlib.colors import ListedColormap\n",
    "from sklearn.metrics import silhouette_samples, silhouette_score\n",
    "import numpy as np\n",
    "import matplotlib.cm as cm\n",
    "from sklearn.metrics import confusion_matrix\n",
    "import seaborn as sns\n",
    "from pyspark.sql import functions as F\n",
    "from pyspark.sql.functions import to_timestamp, year, month, dayofmonth, to_date, lit\n",
    "from pyspark.sql.functions import countDistinct, sum, avg, min, max\n",
    "# EDA\n",
    "from pyspark.sql.functions import col,sum\n",
    "from pyspark.sql.functions import countDistinct\n",
    "# Data Anomalies\n",
    "from pyspark.sql.functions import col, max as spark_max\n",
    "from pyspark.sql.functions import monotonically_increasing_id\n",
    "from pyspark.sql.functions import col, when, to_timestamp\n",
    "from pyspark.sql.functions import col, datediff, current_date, round\n",
    "# Forecasting\n",
    "from pyspark.sql.functions import year, month, to_date, col, lit\n",
    "from pyspark.ml.feature import VectorAssembler\n",
    "from sklearn.linear_model import LinearRegression\n",
    "import pandas as pd\n",
    "from sklearn.linear_model import LinearRegression as SklearnLinearRegression\n",
    "from pyspark.sql.functions import col\n",
    "from sklearn.metrics import mean_squared_error\n",
    "from pyspark.sql.window import Window\n",
    "from pyspark.sql.functions import col, last\n",
    "from pyspark.sql.functions import date_format, col, collect_set, size, array_sort, array_except, array, lit\n",
    "from pyspark.sql.window import Window\n",
    "from pyspark.sql.functions import lag, avg, stddev, col, to_date, year, month, lit\n",
    "from pyspark.ml.feature import VectorAssembler\n",
    "from pyspark.sql.functions import col, to_date, date_format, sum as spark_sum\n",
    "from pyspark.sql import Row\n",
    "from pyspark.sql.functions import col, lit, to_date, date_format, year, month\n",
    "from datetime import datetime\n",
    "from dateutil.relativedelta import relativedelta\n",
    "from pyspark.sql.window import Window\n",
    "from pyspark.sql.functions import sin, cos, lit, col, lag, avg, stddev, month\n",
    "import math "
   ]
  },
  {
   "cell_type": "code",
   "execution_count": 0,
   "metadata": {
    "application/vnd.databricks.v1+cell": {
     "cellMetadata": {
      "byteLimit": 2048000,
      "rowLimit": 10000
     },
     "inputWidgets": {},
     "nuid": "74431799-7c85-4cae-9a96-da146e9cd6df",
     "showTitle": false,
     "tableResultSettingsMap": {},
     "title": ""
    }
   },
   "outputs": [],
   "source": [
    "# Start Spark session\n",
    "spark = SparkSession.builder.appName(\"Project_Group77\").getOrCreate()"
   ]
  },
  {
   "cell_type": "markdown",
   "metadata": {
    "application/vnd.databricks.v1+cell": {
     "cellMetadata": {
      "byteLimit": 2048000,
      "rowLimit": 10000
     },
     "inputWidgets": {},
     "nuid": "c0ba0e78-27b5-4346-8a92-4f37a4fe2065",
     "showTitle": false,
     "tableResultSettingsMap": {},
     "title": ""
    }
   },
   "source": [
    "## Import CSV File"
   ]
  },
  {
   "cell_type": "code",
   "execution_count": 0,
   "metadata": {
    "application/vnd.databricks.v1+cell": {
     "cellMetadata": {
      "byteLimit": 2048000,
      "rowLimit": 10000
     },
     "inputWidgets": {},
     "nuid": "ec85b55a-2dc5-4ae4-864a-e7f3fa5e4a4c",
     "showTitle": false,
     "tableResultSettingsMap": {},
     "title": ""
    }
   },
   "outputs": [
    {
     "output_type": "display_data",
     "data": {
      "text/html": [
       "<style scoped>\n",
       "  .table-result-container {\n",
       "    max-height: 300px;\n",
       "    overflow: auto;\n",
       "  }\n",
       "  table, th, td {\n",
       "    border: 1px solid black;\n",
       "    border-collapse: collapse;\n",
       "  }\n",
       "  th, td {\n",
       "    padding: 5px;\n",
       "  }\n",
       "  th {\n",
       "    text-align: left;\n",
       "  }\n",
       "</style><div class='table-result-container'><table class='table-result'><thead style='background-color: white'><tr><th>Invoice</th><th>StockCode</th><th>Description</th><th>Quantity</th><th>InvoiceDate</th><th>Price</th><th>Customer ID</th><th>Country</th></tr></thead><tbody><tr><td>489434</td><td>85048</td><td>15CM CHRISTMAS GLASS BALL 20 LIGHTS</td><td>12</td><td>2022-12-01T07:45:00.000+0000</td><td>6.95</td><td>13085.0</td><td>United Kingdom</td></tr><tr><td>489434</td><td>79323P</td><td>PINK CHERRY LIGHTS</td><td>12</td><td>2022-12-01T07:45:00.000+0000</td><td>6.75</td><td>13085.0</td><td>United Kingdom</td></tr><tr><td>489434</td><td>79323W</td><td> WHITE CHERRY LIGHTS</td><td>12</td><td>2022-12-01T07:45:00.000+0000</td><td>6.75</td><td>13085.0</td><td>United Kingdom</td></tr><tr><td>489434</td><td>22041</td><td>\"RECORD FRAME 7\"\" SINGLE SIZE \"</td><td>48</td><td>2022-12-01T07:45:00.000+0000</td><td>2.1</td><td>13085.0</td><td>United Kingdom</td></tr><tr><td>489434</td><td>21232</td><td>STRAWBERRY CERAMIC TRINKET BOX</td><td>24</td><td>2022-12-01T07:45:00.000+0000</td><td>1.25</td><td>13085.0</td><td>United Kingdom</td></tr></tbody></table></div>"
      ]
     },
     "metadata": {
      "application/vnd.databricks.v1+output": {
       "addedWidgets": {},
       "aggData": [],
       "aggError": "",
       "aggOverflow": false,
       "aggSchema": [],
       "aggSeriesLimitReached": false,
       "aggType": "",
       "arguments": {},
       "columnCustomDisplayInfos": {},
       "data": [
        [
         "489434",
         "85048",
         "15CM CHRISTMAS GLASS BALL 20 LIGHTS",
         12,
         "2022-12-01T07:45:00.000+0000",
         6.95,
         13085.0,
         "United Kingdom"
        ],
        [
         "489434",
         "79323P",
         "PINK CHERRY LIGHTS",
         12,
         "2022-12-01T07:45:00.000+0000",
         6.75,
         13085.0,
         "United Kingdom"
        ],
        [
         "489434",
         "79323W",
         " WHITE CHERRY LIGHTS",
         12,
         "2022-12-01T07:45:00.000+0000",
         6.75,
         13085.0,
         "United Kingdom"
        ],
        [
         "489434",
         "22041",
         "\"RECORD FRAME 7\"\" SINGLE SIZE \"",
         48,
         "2022-12-01T07:45:00.000+0000",
         2.1,
         13085.0,
         "United Kingdom"
        ],
        [
         "489434",
         "21232",
         "STRAWBERRY CERAMIC TRINKET BOX",
         24,
         "2022-12-01T07:45:00.000+0000",
         1.25,
         13085.0,
         "United Kingdom"
        ]
       ],
       "datasetInfos": [],
       "dbfsResultPath": null,
       "isJsonSchema": true,
       "metadata": {},
       "overflow": false,
       "plotOptions": {
        "customPlotOptions": {},
        "displayType": "table",
        "pivotAggregation": null,
        "pivotColumns": null,
        "xColumns": null,
        "yColumns": null
       },
       "removedWidgets": [],
       "schema": [
        {
         "metadata": "{}",
         "name": "Invoice",
         "type": "\"string\""
        },
        {
         "metadata": "{}",
         "name": "StockCode",
         "type": "\"string\""
        },
        {
         "metadata": "{}",
         "name": "Description",
         "type": "\"string\""
        },
        {
         "metadata": "{}",
         "name": "Quantity",
         "type": "\"integer\""
        },
        {
         "metadata": "{}",
         "name": "InvoiceDate",
         "type": "\"timestamp\""
        },
        {
         "metadata": "{}",
         "name": "Price",
         "type": "\"double\""
        },
        {
         "metadata": "{}",
         "name": "Customer ID",
         "type": "\"double\""
        },
        {
         "metadata": "{}",
         "name": "Country",
         "type": "\"string\""
        }
       ],
       "type": "table"
      }
     },
     "output_type": "display_data"
    },
    {
     "output_type": "stream",
     "name": "stdout",
     "output_type": "stream",
     "text": [
      "Out[115]: StructType([StructField('Invoice', StringType(), True), StructField('StockCode', StringType(), True), StructField('Description', StringType(), True), StructField('Quantity', IntegerType(), True), StructField('InvoiceDate', TimestampType(), True), StructField('Price', DoubleType(), True), StructField('Customer ID', DoubleType(), True), StructField('Country', StringType(), True)])"
     ]
    }
   ],
   "source": [
    "# File location and type\n",
    "file_location = \"/FileStore/tables/the_online_retail.csv\"\n",
    "file_type = \"csv\"\n",
    "\n",
    "# CSV options\n",
    "infer_schema = \"true\"\n",
    "first_row_is_header = \"true\"\n",
    "delimiter = \",\"\n",
    "\n",
    "# The applied options are for CSV files. For other file types, these will be ignored.\n",
    "df = spark.read.format(file_type) \\\n",
    "  .option(\"inferSchema\", infer_schema) \\\n",
    "  .option(\"header\", first_row_is_header) \\\n",
    "  .option(\"sep\", delimiter) \\\n",
    "  .load(file_location)\n",
    "\n",
    "display(df.limit(5))\n",
    "df.schema\n"
   ]
  },
  {
   "cell_type": "markdown",
   "metadata": {
    "application/vnd.databricks.v1+cell": {
     "cellMetadata": {
      "byteLimit": 2048000,
      "rowLimit": 10000
     },
     "inputWidgets": {},
     "nuid": "d64c2dbd-d980-4302-bc4d-8a7f6f6d7b8b",
     "showTitle": false,
     "tableResultSettingsMap": {},
     "title": ""
    }
   },
   "source": [
    "The dataset contains 1,067,371 rows and 8 features.\n",
    "\n",
    "### Data Type\n",
    "| Features | Data Types | Need to be changed? |\n",
    "|---|--------| ---- |\n",
    "| Invoice | String | No - \"C\" stands for cancellation |\n",
    "| StockCode | String | No - Some code contains a string |\n",
    "| Description| String | No |\n",
    "| Quantity | String | Yes - Integer |\n",
    "| InvoiceDate | String | Yes - Timestamp |\n",
    "| Price | String | Yes - Decimal |\n",
    "| Customer ID | String | Yes - Integer |\n",
    "| Country | String | No |\n",
    "\n",
    "### Data Anomalies\n",
    "| Features | Anomalies | Steps |\n",
    "|---|--------| ---- |\n",
    "| StockCode | Some code contains only a string | Check if the same description shares same stock code or not |\n",
    "| Quantity | It contains negative values | Check it after changing to the correct data type |\n",
    "| Price | It contains negative values | Check it after changing to the correct data type |"
   ]
  },
  {
   "cell_type": "markdown",
   "metadata": {
    "application/vnd.databricks.v1+cell": {
     "cellMetadata": {
      "byteLimit": 2048000,
      "rowLimit": 10000
     },
     "inputWidgets": {},
     "nuid": "6cfd4363-6d9e-4eb7-b45f-1d0fb69722b0",
     "showTitle": false,
     "tableResultSettingsMap": {},
     "title": ""
    }
   },
   "source": [
    "### Missing Value"
   ]
  },
  {
   "cell_type": "code",
   "execution_count": 0,
   "metadata": {
    "application/vnd.databricks.v1+cell": {
     "cellMetadata": {
      "byteLimit": 2048000,
      "rowLimit": 10000
     },
     "inputWidgets": {},
     "nuid": "57853bdf-af36-40c3-aea0-c8fdf8db88ca",
     "showTitle": false,
     "tableResultSettingsMap": {},
     "title": ""
    }
   },
   "outputs": [
    {
     "output_type": "stream",
     "name": "stdout",
     "output_type": "stream",
     "text": [
      "+-------+---------+-----------+--------+-----------+-----+-----------+-------+\n|Invoice|StockCode|Description|Quantity|InvoiceDate|Price|Customer ID|Country|\n+-------+---------+-----------+--------+-----------+-----+-----------+-------+\n|      0|        0|       4382|       0|          0|    0|     243007|      0|\n+-------+---------+-----------+--------+-----------+-----+-----------+-------+\n\n"
     ]
    }
   ],
   "source": [
    "from pyspark.sql.functions import col, sum as _sum\n",
    "# Check if there are any missing values\n",
    "df.select([_sum(col(c).isNull().cast(\"int\")).alias(c) for c in df.columns]).show()"
   ]
  },
  {
   "cell_type": "markdown",
   "metadata": {
    "application/vnd.databricks.v1+cell": {
     "cellMetadata": {
      "byteLimit": 2048000,
      "rowLimit": 10000
     },
     "inputWidgets": {},
     "nuid": "f196ebea-28b6-4465-970a-bba9ec89d127",
     "showTitle": false,
     "tableResultSettingsMap": {},
     "title": ""
    }
   },
   "source": [
    "There are:\n",
    "- 4,382 missing values in *Description* (approximately 0.4% of the data)\n",
    "- 243,007 missing values in *Customer ID* (approximately 22.8% of the data)\n",
    "\n",
    "Possible solution:\n",
    "- *Description*: Use *StockCode* --> *StockCode* and *Description* should match.\n",
    "- *Customer ID*: Use *Invoice* --> The same invoices belong to the same customer."
   ]
  },
  {
   "cell_type": "markdown",
   "metadata": {
    "application/vnd.databricks.v1+cell": {
     "cellMetadata": {
      "byteLimit": 2048000,
      "rowLimit": 10000
     },
     "inputWidgets": {},
     "nuid": "76465276-b938-4ba9-9620-e1a6d41e22df",
     "showTitle": false,
     "tableResultSettingsMap": {},
     "title": ""
    }
   },
   "source": [
    "### Change the data types\n",
    "As we identified previously, we are going to change the data types of the following features:\n",
    "\n",
    "| Features | Data Types | Need to be changed? |\n",
    "|---|--------| ---- |\n",
    "| Quantity | String | Yes - Integer |\n",
    "| InvoiceDate | String | Yes - Timestamp |\n",
    "| Price | String | Yes - Decimal |\n",
    "| Customer ID | String | Yes - Integer |"
   ]
  },
  {
   "cell_type": "code",
   "execution_count": 0,
   "metadata": {
    "application/vnd.databricks.v1+cell": {
     "cellMetadata": {
      "byteLimit": 2048000,
      "rowLimit": 10000
     },
     "inputWidgets": {},
     "nuid": "a7123039-4d82-4dc2-974d-0c9543e07d9f",
     "showTitle": false,
     "tableResultSettingsMap": {},
     "title": ""
    }
   },
   "outputs": [],
   "source": [
    "# Change the data types\n",
    "df = df \\\n",
    "    .withColumn(\"Quantity\", col(\"Quantity\").cast(\"int\")) \\\n",
    "    .withColumn(\"InvoiceDate\", to_timestamp(col(\"InvoiceDate\"), \"dd/MM/yyyy HH:mm\")) \\\n",
    "    .withColumn(\"Price\", col(\"Price\").cast(\"decimal(20,2)\")) \\\n",
    "    .withColumn(\"Customer ID\", col(\"Customer ID\").cast(\"int\"))"
   ]
  },
  {
   "cell_type": "markdown",
   "metadata": {
    "application/vnd.databricks.v1+cell": {
     "cellMetadata": {
      "byteLimit": 2048000,
      "rowLimit": 10000
     },
     "inputWidgets": {},
     "nuid": "89de73a3-0305-4aeb-a432-27e92c9a5964",
     "showTitle": false,
     "tableResultSettingsMap": {},
     "title": ""
    }
   },
   "source": [
    "# Data Anomalies Treatment"
   ]
  },
  {
   "cell_type": "markdown",
   "metadata": {
    "application/vnd.databricks.v1+cell": {
     "cellMetadata": {
      "byteLimit": 2048000,
      "rowLimit": 10000
     },
     "inputWidgets": {},
     "nuid": "6dbfb9e5-7f42-4ee4-92e0-43e681d5d4cf",
     "showTitle": false,
     "tableResultSettingsMap": {},
     "title": ""
    }
   },
   "source": [
    "### Check Duplicates"
   ]
  },
  {
   "cell_type": "code",
   "execution_count": 0,
   "metadata": {
    "application/vnd.databricks.v1+cell": {
     "cellMetadata": {
      "byteLimit": 2048000,
      "rowLimit": 10000
     },
     "inputWidgets": {},
     "nuid": "74ab1bb2-224e-44fc-8b3f-c64eef6ce108",
     "showTitle": false,
     "tableResultSettingsMap": {},
     "title": ""
    }
   },
   "outputs": [
    {
     "output_type": "stream",
     "name": "stdout",
     "output_type": "stream",
     "text": [
      "Duplicates found: 34335\n"
     ]
    }
   ],
   "source": [
    "# Count total rows and distinct rows\n",
    "total_rows = df.count()\n",
    "distinct_rows = df.distinct().count()\n",
    "\n",
    "# Check for duplicates\n",
    "if total_rows > distinct_rows:\n",
    "    print(f\"Duplicates found: {total_rows - distinct_rows}\")\n",
    "else:\n",
    "    print(\"No duplicates found.\")\n"
   ]
  },
  {
   "cell_type": "markdown",
   "metadata": {
    "application/vnd.databricks.v1+cell": {
     "cellMetadata": {
      "byteLimit": 2048000,
      "rowLimit": 10000
     },
     "inputWidgets": {},
     "nuid": "e4c59d47-e75a-459c-adca-f6688236fc65",
     "showTitle": false,
     "tableResultSettingsMap": {},
     "title": ""
    }
   },
   "source": [
    "We found there are 34,335 duplicates in our dataset."
   ]
  },
  {
   "cell_type": "markdown",
   "metadata": {
    "application/vnd.databricks.v1+cell": {
     "cellMetadata": {
      "byteLimit": 2048000,
      "rowLimit": 10000
     },
     "inputWidgets": {},
     "nuid": "86f8f4b5-317c-41a0-b743-d19196acfab4",
     "showTitle": false,
     "tableResultSettingsMap": {},
     "title": ""
    }
   },
   "source": [
    "### Remove Duplicates\n"
   ]
  },
  {
   "cell_type": "markdown",
   "metadata": {
    "application/vnd.databricks.v1+cell": {
     "cellMetadata": {
      "byteLimit": 2048000,
      "rowLimit": 10000
     },
     "inputWidgets": {},
     "nuid": "5e56ba05-9ee3-490b-9ae0-1c1104ca766a",
     "showTitle": false,
     "tableResultSettingsMap": {},
     "title": ""
    }
   },
   "source": [
    "We are going to remove the duplicates for more precise clustering."
   ]
  },
  {
   "cell_type": "code",
   "execution_count": 0,
   "metadata": {
    "application/vnd.databricks.v1+cell": {
     "cellMetadata": {
      "byteLimit": 2048000,
      "rowLimit": 10000
     },
     "inputWidgets": {},
     "nuid": "fa754249-fb4f-4734-8d03-313978057a0b",
     "showTitle": false,
     "tableResultSettingsMap": {},
     "title": ""
    }
   },
   "outputs": [
    {
     "output_type": "display_data",
     "data": {
      "text/html": [
       "<style scoped>\n",
       "  .table-result-container {\n",
       "    max-height: 300px;\n",
       "    overflow: auto;\n",
       "  }\n",
       "  table, th, td {\n",
       "    border: 1px solid black;\n",
       "    border-collapse: collapse;\n",
       "  }\n",
       "  th, td {\n",
       "    padding: 5px;\n",
       "  }\n",
       "  th {\n",
       "    text-align: left;\n",
       "  }\n",
       "</style><div class='table-result-container'><table class='table-result'><thead style='background-color: white'><tr><th>Invoice</th><th>StockCode</th><th>Description</th><th>Quantity</th><th>InvoiceDate</th><th>Price</th><th>Customer ID</th><th>Country</th></tr></thead><tbody><tr><td>489434</td><td>21523</td><td>FANCY FONT HOME SWEET HOME DOORMAT</td><td>10</td><td>2022-12-01T07:45:00.000+0000</td><td>5.95</td><td>13085</td><td>United Kingdom</td></tr><tr><td>489435</td><td>22349</td><td>DOG BOWL , CHASING BALL DESIGN</td><td>12</td><td>2022-12-01T07:46:00.000+0000</td><td>3.75</td><td>13085</td><td>United Kingdom</td></tr><tr><td>489434</td><td>79323P</td><td>PINK CHERRY LIGHTS</td><td>12</td><td>2022-12-01T07:45:00.000+0000</td><td>6.75</td><td>13085</td><td>United Kingdom</td></tr><tr><td>489435</td><td>22350</td><td>CAT BOWL </td><td>12</td><td>2022-12-01T07:46:00.000+0000</td><td>2.55</td><td>13085</td><td>United Kingdom</td></tr><tr><td>489434</td><td>21871</td><td>SAVE THE PLANET MUG</td><td>24</td><td>2022-12-01T07:45:00.000+0000</td><td>1.25</td><td>13085</td><td>United Kingdom</td></tr><tr><td>489434</td><td>22064</td><td>PINK DOUGHNUT TRINKET POT </td><td>24</td><td>2022-12-01T07:45:00.000+0000</td><td>1.65</td><td>13085</td><td>United Kingdom</td></tr><tr><td>489434</td><td>85048</td><td>15CM CHRISTMAS GLASS BALL 20 LIGHTS</td><td>12</td><td>2022-12-01T07:45:00.000+0000</td><td>6.95</td><td>13085</td><td>United Kingdom</td></tr><tr><td>489434</td><td>22041</td><td>\"RECORD FRAME 7\"\" SINGLE SIZE \"</td><td>48</td><td>2022-12-01T07:45:00.000+0000</td><td>2.10</td><td>13085</td><td>United Kingdom</td></tr><tr><td>489434</td><td>21232</td><td>STRAWBERRY CERAMIC TRINKET BOX</td><td>24</td><td>2022-12-01T07:45:00.000+0000</td><td>1.25</td><td>13085</td><td>United Kingdom</td></tr><tr><td>489434</td><td>79323W</td><td> WHITE CHERRY LIGHTS</td><td>12</td><td>2022-12-01T07:45:00.000+0000</td><td>6.75</td><td>13085</td><td>United Kingdom</td></tr></tbody></table></div>"
      ]
     },
     "metadata": {
      "application/vnd.databricks.v1+output": {
       "addedWidgets": {},
       "aggData": [],
       "aggError": "",
       "aggOverflow": false,
       "aggSchema": [],
       "aggSeriesLimitReached": false,
       "aggType": "",
       "arguments": {},
       "columnCustomDisplayInfos": {},
       "data": [
        [
         "489434",
         "21523",
         "FANCY FONT HOME SWEET HOME DOORMAT",
         10,
         "2022-12-01T07:45:00.000+0000",
         "5.95",
         13085,
         "United Kingdom"
        ],
        [
         "489435",
         "22349",
         "DOG BOWL , CHASING BALL DESIGN",
         12,
         "2022-12-01T07:46:00.000+0000",
         "3.75",
         13085,
         "United Kingdom"
        ],
        [
         "489434",
         "79323P",
         "PINK CHERRY LIGHTS",
         12,
         "2022-12-01T07:45:00.000+0000",
         "6.75",
         13085,
         "United Kingdom"
        ],
        [
         "489435",
         "22350",
         "CAT BOWL ",
         12,
         "2022-12-01T07:46:00.000+0000",
         "2.55",
         13085,
         "United Kingdom"
        ],
        [
         "489434",
         "21871",
         "SAVE THE PLANET MUG",
         24,
         "2022-12-01T07:45:00.000+0000",
         "1.25",
         13085,
         "United Kingdom"
        ],
        [
         "489434",
         "22064",
         "PINK DOUGHNUT TRINKET POT ",
         24,
         "2022-12-01T07:45:00.000+0000",
         "1.65",
         13085,
         "United Kingdom"
        ],
        [
         "489434",
         "85048",
         "15CM CHRISTMAS GLASS BALL 20 LIGHTS",
         12,
         "2022-12-01T07:45:00.000+0000",
         "6.95",
         13085,
         "United Kingdom"
        ],
        [
         "489434",
         "22041",
         "\"RECORD FRAME 7\"\" SINGLE SIZE \"",
         48,
         "2022-12-01T07:45:00.000+0000",
         "2.10",
         13085,
         "United Kingdom"
        ],
        [
         "489434",
         "21232",
         "STRAWBERRY CERAMIC TRINKET BOX",
         24,
         "2022-12-01T07:45:00.000+0000",
         "1.25",
         13085,
         "United Kingdom"
        ],
        [
         "489434",
         "79323W",
         " WHITE CHERRY LIGHTS",
         12,
         "2022-12-01T07:45:00.000+0000",
         "6.75",
         13085,
         "United Kingdom"
        ]
       ],
       "datasetInfos": [],
       "dbfsResultPath": null,
       "isJsonSchema": true,
       "metadata": {},
       "overflow": false,
       "plotOptions": {
        "customPlotOptions": {},
        "displayType": "table",
        "pivotAggregation": null,
        "pivotColumns": null,
        "xColumns": null,
        "yColumns": null
       },
       "removedWidgets": [],
       "schema": [
        {
         "metadata": "{}",
         "name": "Invoice",
         "type": "\"string\""
        },
        {
         "metadata": "{}",
         "name": "StockCode",
         "type": "\"string\""
        },
        {
         "metadata": "{}",
         "name": "Description",
         "type": "\"string\""
        },
        {
         "metadata": "{}",
         "name": "Quantity",
         "type": "\"integer\""
        },
        {
         "metadata": "{}",
         "name": "InvoiceDate",
         "type": "\"timestamp\""
        },
        {
         "metadata": "{}",
         "name": "Price",
         "type": "\"decimal(20,2)\""
        },
        {
         "metadata": "{}",
         "name": "Customer ID",
         "type": "\"integer\""
        },
        {
         "metadata": "{}",
         "name": "Country",
         "type": "\"string\""
        }
       ],
       "type": "table"
      }
     },
     "output_type": "display_data"
    }
   ],
   "source": [
    "df_no_duplicates = df.dropDuplicates()\n",
    "df_no_duplicates.limit(10).display()"
   ]
  },
  {
   "cell_type": "markdown",
   "metadata": {
    "application/vnd.databricks.v1+cell": {
     "cellMetadata": {
      "byteLimit": 2048000,
      "rowLimit": 10000
     },
     "inputWidgets": {},
     "nuid": "6ec96f09-4047-4b3f-b936-fad1a24411b9",
     "showTitle": false,
     "tableResultSettingsMap": {},
     "title": ""
    }
   },
   "source": [
    "## Missing Values"
   ]
  },
  {
   "cell_type": "markdown",
   "metadata": {
    "application/vnd.databricks.v1+cell": {
     "cellMetadata": {
      "byteLimit": 2048000,
      "rowLimit": 10000
     },
     "inputWidgets": {},
     "nuid": "386991e9-af5f-49bf-9991-d8c22b3e697c",
     "showTitle": false,
     "tableResultSettingsMap": {},
     "title": ""
    }
   },
   "source": [
    "#### Recap\n",
    "There are:\n",
    "- 4,382 missing values in *Description* (approximately 0.4% of the data)\n",
    "- 243,007 missing values in *Customer ID* (approximately 22.8% of the data)\n",
    "\n",
    "Possible solution:\n",
    "- *Description*: Use *StockCode* --> *StockCode* and *Description* should match.\n",
    "- *Customer ID*: Use *Invoice* --> The same invoices belong to the same customer."
   ]
  },
  {
   "cell_type": "markdown",
   "metadata": {
    "application/vnd.databricks.v1+cell": {
     "cellMetadata": {
      "byteLimit": 2048000,
      "rowLimit": 10000
     },
     "inputWidgets": {},
     "nuid": "6007cd4f-67e7-4315-b06e-4fc193f715b1",
     "showTitle": false,
     "tableResultSettingsMap": {},
     "title": ""
    }
   },
   "source": [
    "#### *Customer ID*\n",
    "\n",
    "We are going to fill in missing Customer IDs by assigning new unique IDs based on their Invoice numbers.<br>\n",
    "If the max Cusotmer ID is 9823 in the dataset, then new customer IDs will start from 9823 + 1 = 9824."
   ]
  },
  {
   "cell_type": "markdown",
   "metadata": {
    "application/vnd.databricks.v1+cell": {
     "cellMetadata": {
      "byteLimit": 2048000,
      "rowLimit": 10000
     },
     "inputWidgets": {},
     "nuid": "1388219f-ad98-4300-b7ce-7f3f59203151",
     "showTitle": false,
     "tableResultSettingsMap": {},
     "title": ""
    }
   },
   "source": [
    "NOTE:\n",
    "```monotonically_increasing_id()``` <br>\n",
    "This Spark function generates a unique and increasing ID for each row. <br>\n",
    "It’s:\n",
    "- Not guaranteed to be consecutive (e.g., might go 0, 4, 9…),\n",
    "- But each row will get a different number,\n",
    "- Safe to use in distributed environments (like Spark/Databricks)."
   ]
  },
  {
   "cell_type": "code",
   "execution_count": 0,
   "metadata": {
    "application/vnd.databricks.v1+cell": {
     "cellMetadata": {
      "byteLimit": 2048000,
      "rowLimit": 10000
     },
     "inputWidgets": {},
     "nuid": "e4859b45-99e8-431e-a34e-6e3bbd823643",
     "showTitle": false,
     "tableResultSettingsMap": {},
     "title": ""
    }
   },
   "outputs": [],
   "source": [
    "#### Extract existing Customer IDs and find the max\n",
    "#### We are going to add +1 to max Customer ID to fill the missing values\n",
    "# Ensure all Customer IDs are integers., Cast to integer if needed\n",
    "df_filled = df_no_duplicates.withColumn(\"Customer ID\", col(\"Customer ID\").cast(\"int\"))\n",
    "\n",
    "# spark_max --> Get max existing Customer ID \n",
    "# .first()[0] --> Get the actual value (not a Row object).\n",
    "# or 10000 --> If that value is None (i.e., no customer IDs exist at all), then it uses 10000 instead.\n",
    "max_existing_id = df_filled.select(spark_max(\"Customer ID\")).first()[0] or 10000\n",
    "\n",
    "#### Get invoices with missing Customer ID\n",
    "# Filter out all rows where Customer ID is missing\n",
    "# Then selects the distinct invoices (each invoice will get a new fake ID later)\n",
    "missing_cus_df = df_filled.filter(col(\"Customer ID\").isNull()).select(\"Invoice\").distinct()\n",
    "\n",
    "#### Generate new Customer IDs for these invoices\n",
    "# Add a unique ID starting after max_existing_id\n",
    "# Cap the generated ID at 100,000 just to keep it manageable\n",
    "new_ids_df = missing_cus_df.withColumn(\n",
    "    \"Customer ID\", \n",
    "    (monotonically_increasing_id() % 100000 + max_existing_id + 1).cast(\"int\")\n",
    ")\n",
    "#### Join these new IDs back to the original DataFrame\n",
    "# Rename the generated Customer ID column to avoid conflict\n",
    "new_ids_df_renamed = new_ids_df.withColumnRenamed(\"Customer ID\", \"Generated_Customer_ID\")\n",
    "\n",
    "# Perform the join and update Customer ID\n",
    "df_final = df_filled.join(\n",
    "    new_ids_df_renamed,\n",
    "    on=\"Invoice\", # Join the generated IDs onto the original data by Invoice\n",
    "    how=\"left\"\n",
    ").withColumn(\n",
    "    \"Customer ID\",\n",
    "    when(col(\"Customer ID\").isNull(), col(\"Generated_Customer_ID\")).otherwise(col(\"Customer ID\"))\n",
    "    # Replaces missing Customer IDs with the generated ones\n",
    "    # Keeps the existing ones as they are\n",
    ").drop(\"Generated_Customer_ID\")\n",
    "    # Drops the temporary Generated_Customer_ID column afterward\n"
   ]
  },
  {
   "cell_type": "code",
   "execution_count": 0,
   "metadata": {
    "application/vnd.databricks.v1+cell": {
     "cellMetadata": {
      "byteLimit": 2048000,
      "rowLimit": 10000
     },
     "inputWidgets": {},
     "nuid": "71e0dec5-5260-4415-b25e-055861219c7a",
     "showTitle": false,
     "tableResultSettingsMap": {},
     "title": ""
    }
   },
   "outputs": [
    {
     "output_type": "stream",
     "name": "stdout",
     "output_type": "stream",
     "text": [
      "+-------+---------+-----------+--------+-----------+-----+-----------+-------+\n|Invoice|StockCode|Description|Quantity|InvoiceDate|Price|Customer ID|Country|\n+-------+---------+-----------+--------+-----------+-----+-----------+-------+\n|      0|        0|       4275|       0|          0|    0|          0|      0|\n+-------+---------+-----------+--------+-----------+-----+-----------+-------+\n\n"
     ]
    }
   ],
   "source": [
    "# Check if there are any missing values\n",
    "df_final.select(*(sum(col(c).isNull().cast(\"int\")).alias(c) for c in df.columns)).show()"
   ]
  },
  {
   "cell_type": "markdown",
   "metadata": {
    "application/vnd.databricks.v1+cell": {
     "cellMetadata": {
      "byteLimit": 2048000,
      "rowLimit": 10000
     },
     "inputWidgets": {},
     "nuid": "fb55168d-cb2b-4f48-ba91-3c55a751bda5",
     "showTitle": false,
     "tableResultSettingsMap": {},
     "title": ""
    }
   },
   "source": [
    "### *Description*"
   ]
  },
  {
   "cell_type": "markdown",
   "metadata": {
    "application/vnd.databricks.v1+cell": {
     "cellMetadata": {
      "byteLimit": 2048000,
      "rowLimit": 10000
     },
     "inputWidgets": {},
     "nuid": "efdecf26-496f-43ae-bebd-3fc6fd4db5bd",
     "showTitle": false,
     "tableResultSettingsMap": {},
     "title": ""
    }
   },
   "source": [
    "#### Remove rows where *Price* = 0"
   ]
  },
  {
   "cell_type": "markdown",
   "metadata": {
    "application/vnd.databricks.v1+cell": {
     "cellMetadata": {
      "byteLimit": 2048000,
      "rowLimit": 10000
     },
     "inputWidgets": {},
     "nuid": "753c1843-4e73-4478-9c99-545d0a100ef2",
     "showTitle": false,
     "tableResultSettingsMap": {},
     "title": ""
    }
   },
   "source": [
    "We noticed that ***Description* is empty when the *Price* = 0**. It does not make sense to keep the rows with price = 0, so we are going to removed them."
   ]
  },
  {
   "cell_type": "code",
   "execution_count": 0,
   "metadata": {
    "application/vnd.databricks.v1+cell": {
     "cellMetadata": {
      "byteLimit": 2048000,
      "rowLimit": 10000
     },
     "inputWidgets": {},
     "nuid": "6ec08d35-614a-4fbc-bd46-c4440a0f7db9",
     "showTitle": false,
     "tableResultSettingsMap": {},
     "title": ""
    }
   },
   "outputs": [],
   "source": [
    "# Remove rows where Price is 0\n",
    "df_final = df_final.filter(col(\"Price\") != 0)"
   ]
  },
  {
   "cell_type": "code",
   "execution_count": 0,
   "metadata": {
    "application/vnd.databricks.v1+cell": {
     "cellMetadata": {
      "byteLimit": 2048000,
      "rowLimit": 10000
     },
     "inputWidgets": {},
     "nuid": "aeffed0f-6108-42bc-a5c8-e393d546ea08",
     "showTitle": false,
     "tableResultSettingsMap": {},
     "title": ""
    }
   },
   "outputs": [
    {
     "output_type": "stream",
     "name": "stdout",
     "output_type": "stream",
     "text": [
      "+-------+---------+-----------+--------+-----------+-----+-----------+-------+\n|Invoice|StockCode|Description|Quantity|InvoiceDate|Price|Customer ID|Country|\n+-------+---------+-----------+--------+-----------+-----+-----------+-------+\n|      0|        0|          0|       0|          0|    0|          0|      0|\n+-------+---------+-----------+--------+-----------+-----+-----------+-------+\n\n"
     ]
    }
   ],
   "source": [
    "# Check if there are any missing values\n",
    "df_final.select(*(sum(col(c).isNull().cast(\"int\")).alias(c) for c in df.columns)).show()"
   ]
  },
  {
   "cell_type": "markdown",
   "metadata": {
    "application/vnd.databricks.v1+cell": {
     "cellMetadata": {
      "byteLimit": 2048000,
      "rowLimit": 10000
     },
     "inputWidgets": {},
     "nuid": "a978f272-0f1f-4e63-8b9a-9bc01f7ad4aa",
     "showTitle": false,
     "tableResultSettingsMap": {},
     "title": ""
    }
   },
   "source": [
    "It can be seen that there is no missing value after removing *Price* = 0."
   ]
  },
  {
   "cell_type": "markdown",
   "metadata": {
    "application/vnd.databricks.v1+cell": {
     "cellMetadata": {
      "byteLimit": 2048000,
      "rowLimit": 10000
     },
     "inputWidgets": {},
     "nuid": "15baee52-b9b6-42f1-8612-7a45e45ab132",
     "showTitle": false,
     "tableResultSettingsMap": {},
     "title": ""
    }
   },
   "source": [
    "## Anomalies"
   ]
  },
  {
   "cell_type": "markdown",
   "metadata": {
    "application/vnd.databricks.v1+cell": {
     "cellMetadata": {
      "byteLimit": 2048000,
      "rowLimit": 10000
     },
     "inputWidgets": {},
     "nuid": "f397a3aa-f367-4dfa-b4b5-05818e6df4d7",
     "showTitle": false,
     "tableResultSettingsMap": {},
     "title": ""
    }
   },
   "source": [
    "### *Invoice*"
   ]
  },
  {
   "cell_type": "markdown",
   "metadata": {
    "application/vnd.databricks.v1+cell": {
     "cellMetadata": {
      "byteLimit": 2048000,
      "rowLimit": 10000
     },
     "inputWidgets": {},
     "nuid": "7caf6370-4388-47b5-af84-963afdff9cba",
     "showTitle": false,
     "tableResultSettingsMap": {},
     "title": ""
    }
   },
   "source": [
    "We understood that if invoice code starts with the letter 'C', it indicates a cancellation in *Invoice*. To simplify this, we are going to make new feature called *IsReturn* which identify if the order was returned (0) or not (1)."
   ]
  },
  {
   "cell_type": "code",
   "execution_count": 0,
   "metadata": {
    "application/vnd.databricks.v1+cell": {
     "cellMetadata": {
      "byteLimit": 2048000,
      "rowLimit": 10000
     },
     "inputWidgets": {},
     "nuid": "a985b95b-f789-4920-ba61-6e39df04eec4",
     "showTitle": false,
     "tableResultSettingsMap": {},
     "title": ""
    }
   },
   "outputs": [],
   "source": [
    "# Create new column that checks for quantity < 0 which means a return\n",
    "df_final = df_final.withColumn(\"IsReturn\", when(col(\"Quantity\") < 0, 1).otherwise(0))"
   ]
  },
  {
   "cell_type": "code",
   "execution_count": 0,
   "metadata": {
    "application/vnd.databricks.v1+cell": {
     "cellMetadata": {
      "byteLimit": 2048000,
      "rowLimit": 10000
     },
     "inputWidgets": {},
     "nuid": "10495377-5501-4355-82f5-761b85b2e30f",
     "showTitle": false,
     "tableResultSettingsMap": {},
     "title": ""
    }
   },
   "outputs": [
    {
     "output_type": "display_data",
     "data": {
      "text/html": [
       "<style scoped>\n",
       "  .table-result-container {\n",
       "    max-height: 300px;\n",
       "    overflow: auto;\n",
       "  }\n",
       "  table, th, td {\n",
       "    border: 1px solid black;\n",
       "    border-collapse: collapse;\n",
       "  }\n",
       "  th, td {\n",
       "    padding: 5px;\n",
       "  }\n",
       "  th {\n",
       "    text-align: left;\n",
       "  }\n",
       "</style><div class='table-result-container'><table class='table-result'><thead style='background-color: white'><tr><th>Invoice</th><th>StockCode</th><th>Description</th><th>Quantity</th><th>InvoiceDate</th><th>Price</th><th>Customer ID</th><th>Country</th><th>IsReturn</th></tr></thead><tbody><tr><td>489434</td><td>79323P</td><td>PINK CHERRY LIGHTS</td><td>12</td><td>2022-12-01T07:45:00.000+0000</td><td>6.75</td><td>13085</td><td>United Kingdom</td><td>0</td></tr><tr><td>489434</td><td>85048</td><td>15CM CHRISTMAS GLASS BALL 20 LIGHTS</td><td>12</td><td>2022-12-01T07:45:00.000+0000</td><td>6.95</td><td>13085</td><td>United Kingdom</td><td>0</td></tr><tr><td>489434</td><td>22041</td><td>\"RECORD FRAME 7\"\" SINGLE SIZE \"</td><td>48</td><td>2022-12-01T07:45:00.000+0000</td><td>2.10</td><td>13085</td><td>United Kingdom</td><td>0</td></tr><tr><td>489434</td><td>21232</td><td>STRAWBERRY CERAMIC TRINKET BOX</td><td>24</td><td>2022-12-01T07:45:00.000+0000</td><td>1.25</td><td>13085</td><td>United Kingdom</td><td>0</td></tr><tr><td>489434</td><td>79323W</td><td> WHITE CHERRY LIGHTS</td><td>12</td><td>2022-12-01T07:45:00.000+0000</td><td>6.75</td><td>13085</td><td>United Kingdom</td><td>0</td></tr></tbody></table></div>"
      ]
     },
     "metadata": {
      "application/vnd.databricks.v1+output": {
       "addedWidgets": {},
       "aggData": [],
       "aggError": "",
       "aggOverflow": false,
       "aggSchema": [],
       "aggSeriesLimitReached": false,
       "aggType": "",
       "arguments": {},
       "columnCustomDisplayInfos": {},
       "data": [
        [
         "489434",
         "79323P",
         "PINK CHERRY LIGHTS",
         12,
         "2022-12-01T07:45:00.000+0000",
         "6.75",
         13085,
         "United Kingdom",
         0
        ],
        [
         "489434",
         "85048",
         "15CM CHRISTMAS GLASS BALL 20 LIGHTS",
         12,
         "2022-12-01T07:45:00.000+0000",
         "6.95",
         13085,
         "United Kingdom",
         0
        ],
        [
         "489434",
         "22041",
         "\"RECORD FRAME 7\"\" SINGLE SIZE \"",
         48,
         "2022-12-01T07:45:00.000+0000",
         "2.10",
         13085,
         "United Kingdom",
         0
        ],
        [
         "489434",
         "21232",
         "STRAWBERRY CERAMIC TRINKET BOX",
         24,
         "2022-12-01T07:45:00.000+0000",
         "1.25",
         13085,
         "United Kingdom",
         0
        ],
        [
         "489434",
         "79323W",
         " WHITE CHERRY LIGHTS",
         12,
         "2022-12-01T07:45:00.000+0000",
         "6.75",
         13085,
         "United Kingdom",
         0
        ]
       ],
       "datasetInfos": [],
       "dbfsResultPath": null,
       "isJsonSchema": true,
       "metadata": {},
       "overflow": false,
       "plotOptions": {
        "customPlotOptions": {},
        "displayType": "table",
        "pivotAggregation": null,
        "pivotColumns": null,
        "xColumns": null,
        "yColumns": null
       },
       "removedWidgets": [],
       "schema": [
        {
         "metadata": "{}",
         "name": "Invoice",
         "type": "\"string\""
        },
        {
         "metadata": "{}",
         "name": "StockCode",
         "type": "\"string\""
        },
        {
         "metadata": "{}",
         "name": "Description",
         "type": "\"string\""
        },
        {
         "metadata": "{}",
         "name": "Quantity",
         "type": "\"integer\""
        },
        {
         "metadata": "{}",
         "name": "InvoiceDate",
         "type": "\"timestamp\""
        },
        {
         "metadata": "{}",
         "name": "Price",
         "type": "\"decimal(20,2)\""
        },
        {
         "metadata": "{}",
         "name": "Customer ID",
         "type": "\"integer\""
        },
        {
         "metadata": "{}",
         "name": "Country",
         "type": "\"string\""
        },
        {
         "metadata": "{}",
         "name": "IsReturn",
         "type": "\"integer\""
        }
       ],
       "type": "table"
      }
     },
     "output_type": "display_data"
    }
   ],
   "source": [
    "df_final.limit(5).display()"
   ]
  },
  {
   "cell_type": "markdown",
   "metadata": {
    "application/vnd.databricks.v1+cell": {
     "cellMetadata": {
      "byteLimit": 2048000,
      "rowLimit": 10000
     },
     "inputWidgets": {},
     "nuid": "2720124d-01c5-459f-82c3-4d49fb5a822a",
     "showTitle": false,
     "tableResultSettingsMap": {},
     "title": ""
    }
   },
   "source": [
    "### *StockCode*"
   ]
  },
  {
   "cell_type": "markdown",
   "metadata": {
    "application/vnd.databricks.v1+cell": {
     "cellMetadata": {
      "byteLimit": 2048000,
      "rowLimit": 10000
     },
     "inputWidgets": {},
     "nuid": "60b213c1-d413-4371-ae3c-7bc4f35ed56e",
     "showTitle": false,
     "tableResultSettingsMap": {},
     "title": ""
    }
   },
   "source": [
    "#### Remove rows where we have TEST"
   ]
  },
  {
   "cell_type": "markdown",
   "metadata": {
    "application/vnd.databricks.v1+cell": {
     "cellMetadata": {
      "byteLimit": 2048000,
      "rowLimit": 10000
     },
     "inputWidgets": {},
     "nuid": "66a479f9-7906-4fc6-acd8-f52fefa195af",
     "showTitle": false,
     "tableResultSettingsMap": {},
     "title": ""
    }
   },
   "source": [
    "We realized that there are some test data in our dataset. Since they are not actual data, we are going to remove them."
   ]
  },
  {
   "cell_type": "code",
   "execution_count": 0,
   "metadata": {
    "application/vnd.databricks.v1+cell": {
     "cellMetadata": {
      "byteLimit": 2048000,
      "rowLimit": 10000
     },
     "inputWidgets": {},
     "nuid": "d4f84144-3041-4342-8f2d-be976822890f",
     "showTitle": false,
     "tableResultSettingsMap": {},
     "title": ""
    }
   },
   "outputs": [],
   "source": [
    "# Remove rows that start with \"TEST\" in StockCode\n",
    "df_final = df_final.filter(~col('StockCode').startswith('TEST'))"
   ]
  },
  {
   "cell_type": "code",
   "execution_count": 0,
   "metadata": {
    "application/vnd.databricks.v1+cell": {
     "cellMetadata": {
      "byteLimit": 2048000,
      "rowLimit": 10000
     },
     "inputWidgets": {},
     "nuid": "411212c1-9ed2-4acb-a208-b7e5d14ead81",
     "showTitle": false,
     "tableResultSettingsMap": {},
     "title": ""
    }
   },
   "outputs": [
    {
     "output_type": "stream",
     "name": "stdout",
     "output_type": "stream",
     "text": [
      "Number of rows: 1026990\n"
     ]
    }
   ],
   "source": [
    "row_count = df_final.count()\n",
    "print(f\"Number of rows: {row_count}\")"
   ]
  },
  {
   "cell_type": "markdown",
   "metadata": {
    "application/vnd.databricks.v1+cell": {
     "cellMetadata": {
      "byteLimit": 2048000,
      "rowLimit": 10000
     },
     "inputWidgets": {},
     "nuid": "12b09628-171c-4a83-97be-e95b057c97c2",
     "showTitle": false,
     "tableResultSettingsMap": {},
     "title": ""
    }
   },
   "source": [
    "After the Data Anomalies Treatment, now the dataset consists of 1008415 rows and 9 features."
   ]
  },
  {
   "cell_type": "markdown",
   "metadata": {
    "application/vnd.databricks.v1+cell": {
     "cellMetadata": {
      "byteLimit": 2048000,
      "rowLimit": 10000
     },
     "inputWidgets": {},
     "nuid": "fb06a621-9260-4dba-80de-682125a154e5",
     "showTitle": false,
     "tableResultSettingsMap": {},
     "title": ""
    }
   },
   "source": [
    "###Creating Dataframe for forecasting"
   ]
  },
  {
   "cell_type": "markdown",
   "metadata": {
    "application/vnd.databricks.v1+cell": {
     "cellMetadata": {
      "byteLimit": 2048000,
      "rowLimit": 10000
     },
     "inputWidgets": {},
     "nuid": "b0249193-1697-4e96-b621-18979207ec75",
     "showTitle": false,
     "tableResultSettingsMap": {},
     "title": ""
    }
   },
   "source": [
    "This dataframe will be based on the concept of having product(StockCode) as index in the dataframe."
   ]
  },
  {
   "cell_type": "code",
   "execution_count": 0,
   "metadata": {
    "application/vnd.databricks.v1+cell": {
     "cellMetadata": {
      "byteLimit": 2048000,
      "rowLimit": 10000
     },
     "inputWidgets": {},
     "nuid": "25240450-455a-4d08-846d-d1575ee1cac6",
     "showTitle": false,
     "tableResultSettingsMap": {},
     "title": ""
    }
   },
   "outputs": [],
   "source": [
    "# Convert to date and extract month\n",
    "df_forecasting = df_final.withColumn(\"date\", to_date(col(\"InvoiceDate\"))) \\\n",
    "       .withColumn(\"month\", date_format(col(\"date\"), \"yyyy-MM\"))\n",
    "\n",
    "# Group by SKU and month\n",
    "df_forecasting = df_forecasting.groupBy(\"StockCode\", \"month\").agg(\n",
    "    spark_sum(\"quantity\").alias(\"total_quantity\")\n",
    ")\n"
   ]
  },
  {
   "cell_type": "code",
   "execution_count": 0,
   "metadata": {
    "application/vnd.databricks.v1+cell": {
     "cellMetadata": {
      "byteLimit": 2048000,
      "rowLimit": 10000
     },
     "inputWidgets": {},
     "nuid": "7b65d90c-995a-487e-91e0-f844c8072a01",
     "showTitle": false,
     "tableResultSettingsMap": {},
     "title": ""
    }
   },
   "outputs": [
    {
     "output_type": "stream",
     "name": "stdout",
     "output_type": "stream",
     "text": [
      "Number of rows: 67445\n"
     ]
    }
   ],
   "source": [
    "row_count = df_forecasting.count()\n",
    "print(f\"Number of rows: {row_count}\")"
   ]
  },
  {
   "cell_type": "code",
   "execution_count": 0,
   "metadata": {
    "application/vnd.databricks.v1+cell": {
     "cellMetadata": {
      "byteLimit": 2048000,
      "rowLimit": 10000
     },
     "inputWidgets": {},
     "nuid": "386fa4ae-2199-46c1-9efe-d65a4d2e126c",
     "showTitle": false,
     "tableResultSettingsMap": {},
     "title": ""
    }
   },
   "outputs": [
    {
     "output_type": "display_data",
     "data": {
      "text/html": [
       "<style scoped>\n",
       "  .table-result-container {\n",
       "    max-height: 300px;\n",
       "    overflow: auto;\n",
       "  }\n",
       "  table, th, td {\n",
       "    border: 1px solid black;\n",
       "    border-collapse: collapse;\n",
       "  }\n",
       "  th, td {\n",
       "    padding: 5px;\n",
       "  }\n",
       "  th {\n",
       "    text-align: left;\n",
       "  }\n",
       "</style><div class='table-result-container'><table class='table-result'><thead style='background-color: white'><tr><th>StockCode</th><th>month</th><th>total_quantity</th></tr></thead><tbody><tr><td>21430</td><td>2022-12</td><td>190</td></tr><tr><td>21564</td><td>2023-02</td><td>153</td></tr><tr><td>22500</td><td>2023-02</td><td>36</td></tr><tr><td>21034</td><td>2023-02</td><td>97</td></tr><tr><td>72131</td><td>2023-01</td><td>1</td></tr></tbody></table></div>"
      ]
     },
     "metadata": {
      "application/vnd.databricks.v1+output": {
       "addedWidgets": {},
       "aggData": [],
       "aggError": "",
       "aggOverflow": false,
       "aggSchema": [],
       "aggSeriesLimitReached": false,
       "aggType": "",
       "arguments": {},
       "columnCustomDisplayInfos": {},
       "data": [
        [
         "21430",
         "2022-12",
         190
        ],
        [
         "21564",
         "2023-02",
         153
        ],
        [
         "22500",
         "2023-02",
         36
        ],
        [
         "21034",
         "2023-02",
         97
        ],
        [
         "72131",
         "2023-01",
         1
        ]
       ],
       "datasetInfos": [],
       "dbfsResultPath": null,
       "isJsonSchema": true,
       "metadata": {},
       "overflow": false,
       "plotOptions": {
        "customPlotOptions": {},
        "displayType": "table",
        "pivotAggregation": null,
        "pivotColumns": null,
        "xColumns": null,
        "yColumns": null
       },
       "removedWidgets": [],
       "schema": [
        {
         "metadata": "{}",
         "name": "StockCode",
         "type": "\"string\""
        },
        {
         "metadata": "{}",
         "name": "month",
         "type": "\"string\""
        },
        {
         "metadata": "{}",
         "name": "total_quantity",
         "type": "\"long\""
        }
       ],
       "type": "table"
      }
     },
     "output_type": "display_data"
    }
   ],
   "source": [
    "display(df_forecasting.limit(5))"
   ]
  },
  {
   "cell_type": "markdown",
   "metadata": {
    "application/vnd.databricks.v1+cell": {
     "cellMetadata": {
      "byteLimit": 2048000,
      "rowLimit": 10000
     },
     "inputWidgets": {},
     "nuid": "c8095114-52b1-44bb-8dfa-81518630b308",
     "showTitle": false,
     "tableResultSettingsMap": {},
     "title": ""
    }
   },
   "source": [
    "## Feature Engineering and Transformation"
   ]
  },
  {
   "cell_type": "markdown",
   "metadata": {
    "application/vnd.databricks.v1+cell": {
     "cellMetadata": {
      "byteLimit": 2048000,
      "rowLimit": 10000
     },
     "inputWidgets": {},
     "nuid": "ffba72c7-e99c-4cad-8670-9fb212dd9b95",
     "showTitle": false,
     "tableResultSettingsMap": {},
     "title": ""
    }
   },
   "source": [
    "Here we are extending the forecasting DataFrame (df_forecasting) with future months (Jan–Jun 2025) for each unique StockCode to be able to predict the quantities of gthese months, preserving the structure and readying it for predictions.\n",
    "\n",
    "1) Convert \"month\" to proper date format for processing.\n",
    "\n",
    "2) Generate future month dates (Jan–Jun 2025)and create new rows for each future month & stock code combination.\n",
    "\n",
    "3) Derive date features like \"month\", \"year\", and \"month_num\" for modeling/analysis.\n"
   ]
  },
  {
   "cell_type": "code",
   "execution_count": 0,
   "metadata": {
    "application/vnd.databricks.v1+cell": {
     "cellMetadata": {
      "byteLimit": 2048000,
      "rowLimit": 10000
     },
     "inputWidgets": {},
     "nuid": "0b22df0d-8931-43a7-aff2-ffdcfeb7440d",
     "showTitle": false,
     "tableResultSettingsMap": {},
     "title": ""
    }
   },
   "outputs": [
    {
     "output_type": "display_data",
     "data": {
      "text/html": [
       "<style scoped>\n",
       "  .table-result-container {\n",
       "    max-height: 300px;\n",
       "    overflow: auto;\n",
       "  }\n",
       "  table, th, td {\n",
       "    border: 1px solid black;\n",
       "    border-collapse: collapse;\n",
       "  }\n",
       "  th, td {\n",
       "    padding: 5px;\n",
       "  }\n",
       "  th {\n",
       "    text-align: left;\n",
       "  }\n",
       "</style><div class='table-result-container'><table class='table-result'><thead style='background-color: white'><tr><th>StockCode</th><th>month</th><th>total_quantity</th><th>date</th><th>year</th><th>month_num</th></tr></thead><tbody><tr><td>10002</td><td>2022-12</td><td>215</td><td>2022-12-01</td><td>2022</td><td>12</td></tr><tr><td>10002</td><td>2023-01</td><td>291</td><td>2023-01-01</td><td>2023</td><td>1</td></tr><tr><td>10002</td><td>2023-02</td><td>257</td><td>2023-02-01</td><td>2023</td><td>2</td></tr><tr><td>10002</td><td>2023-03</td><td>641</td><td>2023-03-01</td><td>2023</td><td>3</td></tr><tr><td>10002</td><td>2023-04</td><td>932</td><td>2023-04-01</td><td>2023</td><td>4</td></tr></tbody></table></div>"
      ]
     },
     "metadata": {
      "application/vnd.databricks.v1+output": {
       "addedWidgets": {},
       "aggData": [],
       "aggError": "",
       "aggOverflow": false,
       "aggSchema": [],
       "aggSeriesLimitReached": false,
       "aggType": "",
       "arguments": {},
       "columnCustomDisplayInfos": {},
       "data": [
        [
         "10002",
         "2022-12",
         215,
         "2022-12-01",
         2022,
         12
        ],
        [
         "10002",
         "2023-01",
         291,
         "2023-01-01",
         2023,
         1
        ],
        [
         "10002",
         "2023-02",
         257,
         "2023-02-01",
         2023,
         2
        ],
        [
         "10002",
         "2023-03",
         641,
         "2023-03-01",
         2023,
         3
        ],
        [
         "10002",
         "2023-04",
         932,
         "2023-04-01",
         2023,
         4
        ]
       ],
       "datasetInfos": [],
       "dbfsResultPath": null,
       "isJsonSchema": true,
       "metadata": {},
       "overflow": false,
       "plotOptions": {
        "customPlotOptions": {},
        "displayType": "table",
        "pivotAggregation": null,
        "pivotColumns": null,
        "xColumns": null,
        "yColumns": null
       },
       "removedWidgets": [],
       "schema": [
        {
         "metadata": "{}",
         "name": "StockCode",
         "type": "\"string\""
        },
        {
         "metadata": "{}",
         "name": "month",
         "type": "\"string\""
        },
        {
         "metadata": "{}",
         "name": "total_quantity",
         "type": "\"long\""
        },
        {
         "metadata": "{}",
         "name": "date",
         "type": "\"date\""
        },
        {
         "metadata": "{}",
         "name": "year",
         "type": "\"integer\""
        },
        {
         "metadata": "{}",
         "name": "month_num",
         "type": "\"integer\""
        }
       ],
       "type": "table"
      }
     },
     "output_type": "display_data"
    }
   ],
   "source": [
    "\n",
    "\n",
    "# Ensure 'date' column exists in df_forecasting\n",
    "df_forecasting = df_forecasting.withColumn(\"date\", to_date(col(\"month\"), \"yyyy-MM\"))\n",
    "\n",
    "# Create list of future months\n",
    "future_months = []\n",
    "future_start = datetime(2025, 1, 1)\n",
    "future_end = datetime(2025, 6, 1)\n",
    "while future_start <= future_end:\n",
    "    future_months.append(future_start.strftime(\"%Y-%m-01\"))\n",
    "    future_start += relativedelta(months=1)\n",
    "\n",
    "# Get distinct StockCodes from df_forecasting\n",
    "stockcodes = [row['StockCode'] for row in df_forecasting.select(\"StockCode\").distinct().collect()]\n",
    "\n",
    "# Create future rows (StockCode + date)\n",
    "future_rows = []\n",
    "for code in stockcodes:\n",
    "    for month_str in future_months:\n",
    "        future_rows.append(Row(StockCode=code, date=datetime.strptime(month_str, \"%Y-%m-%d\")))\n",
    "\n",
    "# Convert future_rows to DataFrame\n",
    "df_future = spark.createDataFrame(future_rows)\n",
    "df_future = df_future.withColumn(\"date\", to_date(col(\"date\")))\n",
    "\n",
    "# Add missing columns from df_forecasting schema\n",
    "for column in df_forecasting.columns:\n",
    "    if column not in df_future.columns:\n",
    "        df_future = df_future.withColumn(column, lit(None).cast(df_forecasting.schema[column].dataType))\n",
    "\n",
    "# Reorder to match df_forecasting\n",
    "df_future = df_future.select(df_forecasting.columns)\n",
    "\n",
    "# Union + sort\n",
    "df_final = df_forecasting.unionByName(df_future).orderBy(\"StockCode\", \"date\")\n",
    "\n",
    "# Add 'month', 'year', and 'month_num' derived from 'date'\n",
    "df_final = df_final.withColumn(\"month\", date_format(col(\"date\"), \"yyyy-MM\")) \\\n",
    "                   .withColumn(\"year\", year(\"date\")) \\\n",
    "                   .withColumn(\"month_num\", month(\"date\"))\n",
    "\n",
    "display(df_final.limit(5))\n"
   ]
  },
  {
   "cell_type": "markdown",
   "metadata": {
    "application/vnd.databricks.v1+cell": {
     "cellMetadata": {
      "byteLimit": 2048000,
      "rowLimit": 10000
     },
     "inputWidgets": {},
     "nuid": "6b2ce097-69ca-4c45-9ddf-937ded76070b",
     "showTitle": false,
     "tableResultSettingsMap": {},
     "title": ""
    }
   },
   "source": [
    "Here we did feature engineering to capture:  \n",
    "> - Trends (via rolling average)\n",
    "> - Seasonality (via sine/cosine)\n",
    "> - Anomalies or stability (via standard deviation)\n",
    "> - Delayed effects (via lag)"
   ]
  },
  {
   "cell_type": "code",
   "execution_count": 0,
   "metadata": {
    "application/vnd.databricks.v1+cell": {
     "cellMetadata": {
      "byteLimit": 2048000,
      "rowLimit": 10000
     },
     "inputWidgets": {},
     "nuid": "5399a097-f96f-470a-8c2f-9d1e35865c70",
     "showTitle": false,
     "tableResultSettingsMap": {},
     "title": ""
    }
   },
   "outputs": [
    {
     "output_type": "display_data",
     "data": {
      "text/html": [
       "<style scoped>\n",
       "  .table-result-container {\n",
       "    max-height: 300px;\n",
       "    overflow: auto;\n",
       "  }\n",
       "  table, th, td {\n",
       "    border: 1px solid black;\n",
       "    border-collapse: collapse;\n",
       "  }\n",
       "  th, td {\n",
       "    padding: 5px;\n",
       "  }\n",
       "  th {\n",
       "    text-align: left;\n",
       "  }\n",
       "</style><div class='table-result-container'><table class='table-result'><thead style='background-color: white'><tr><th>StockCode</th><th>month</th><th>total_quantity</th><th>date</th><th>year</th><th>month_num</th><th>month_sin</th><th>month_cos</th><th>lag_6m_quantity</th><th>rolling_avg_6m</th><th>rolling_std_6m</th></tr></thead><tbody><tr><td>10002</td><td>2022-12</td><td>215</td><td>2022-12-01</td><td>2022</td><td>12</td><td>-2.4492935982947064E-16</td><td>1.0</td><td>null</td><td>215.0</td><td>null</td></tr><tr><td>10002</td><td>2023-01</td><td>291</td><td>2023-01-01</td><td>2023</td><td>1</td><td>0.49999999999999994</td><td>0.8660254037844387</td><td>null</td><td>253.0</td><td>53.74011537017761</td></tr><tr><td>10002</td><td>2023-02</td><td>257</td><td>2023-02-01</td><td>2023</td><td>2</td><td>0.8660254037844386</td><td>0.5000000000000001</td><td>null</td><td>254.33333333333334</td><td>38.07011076071796</td></tr><tr><td>10002</td><td>2023-03</td><td>641</td><td>2023-03-01</td><td>2023</td><td>3</td><td>1.0</td><td>6.123233995736766E-17</td><td>null</td><td>351.0</td><td>195.816240388789</td></tr><tr><td>10002</td><td>2023-04</td><td>932</td><td>2023-04-01</td><td>2023</td><td>4</td><td>0.8660254037844387</td><td>-0.4999999999999998</td><td>null</td><td>467.2</td><td>310.27439468960375</td></tr></tbody></table></div>"
      ]
     },
     "metadata": {
      "application/vnd.databricks.v1+output": {
       "addedWidgets": {},
       "aggData": [],
       "aggError": "",
       "aggOverflow": false,
       "aggSchema": [],
       "aggSeriesLimitReached": false,
       "aggType": "",
       "arguments": {},
       "columnCustomDisplayInfos": {},
       "data": [
        [
         "10002",
         "2022-12",
         215,
         "2022-12-01",
         2022,
         12,
         -2.4492935982947064E-16,
         1.0,
         null,
         215.0,
         null
        ],
        [
         "10002",
         "2023-01",
         291,
         "2023-01-01",
         2023,
         1,
         0.49999999999999994,
         0.8660254037844387,
         null,
         253.0,
         53.74011537017761
        ],
        [
         "10002",
         "2023-02",
         257,
         "2023-02-01",
         2023,
         2,
         0.8660254037844386,
         0.5000000000000001,
         null,
         254.33333333333334,
         38.07011076071796
        ],
        [
         "10002",
         "2023-03",
         641,
         "2023-03-01",
         2023,
         3,
         1.0,
         6.123233995736766E-17,
         null,
         351.0,
         195.816240388789
        ],
        [
         "10002",
         "2023-04",
         932,
         "2023-04-01",
         2023,
         4,
         0.8660254037844387,
         -0.4999999999999998,
         null,
         467.2,
         310.27439468960375
        ]
       ],
       "datasetInfos": [],
       "dbfsResultPath": null,
       "isJsonSchema": true,
       "metadata": {},
       "overflow": false,
       "plotOptions": {
        "customPlotOptions": {},
        "displayType": "table",
        "pivotAggregation": null,
        "pivotColumns": null,
        "xColumns": null,
        "yColumns": null
       },
       "removedWidgets": [],
       "schema": [
        {
         "metadata": "{}",
         "name": "StockCode",
         "type": "\"string\""
        },
        {
         "metadata": "{}",
         "name": "month",
         "type": "\"string\""
        },
        {
         "metadata": "{}",
         "name": "total_quantity",
         "type": "\"long\""
        },
        {
         "metadata": "{}",
         "name": "date",
         "type": "\"date\""
        },
        {
         "metadata": "{}",
         "name": "year",
         "type": "\"integer\""
        },
        {
         "metadata": "{}",
         "name": "month_num",
         "type": "\"integer\""
        },
        {
         "metadata": "{}",
         "name": "month_sin",
         "type": "\"double\""
        },
        {
         "metadata": "{}",
         "name": "month_cos",
         "type": "\"double\""
        },
        {
         "metadata": "{}",
         "name": "lag_6m_quantity",
         "type": "\"long\""
        },
        {
         "metadata": "{}",
         "name": "rolling_avg_6m",
         "type": "\"double\""
        },
        {
         "metadata": "{}",
         "name": "rolling_std_6m",
         "type": "\"double\""
        }
       ],
       "type": "table"
      }
     },
     "output_type": "display_data"
    }
   ],
   "source": [
    "\n",
    "\n",
    "# Create month_sin, month_cos \n",
    "df_final = df_final.withColumn(\"month_sin\", sin(2 * math.pi * col(\"month_num\") / 12)) \\\n",
    "                   .withColumn(\"month_cos\", cos(2 * math.pi * col(\"month_num\") / 12))\n",
    "\n",
    "# Define window\n",
    "# Partition by StockCode, order by date\n",
    "window_spec = Window.partitionBy(\"StockCode\").orderBy(\"date\").rowsBetween(-5, 0)  # last 6 months including current\n",
    "\n",
    "# Create lag and rolling features \n",
    "df_final = df_final.withColumn(\"lag_6m_quantity\", lag(\"total_quantity\", 6).over(Window.partitionBy(\"StockCode\").orderBy(\"date\"))) \\\n",
    "                   .withColumn(\"rolling_avg_6m\", avg(\"total_quantity\").over(window_spec)) \\\n",
    "                   .withColumn(\"rolling_std_6m\", stddev(\"total_quantity\").over(window_spec))\n",
    "                   \n",
    "display(df_final.limit(5))"
   ]
  },
  {
   "cell_type": "markdown",
   "metadata": {
    "application/vnd.databricks.v1+cell": {
     "cellMetadata": {
      "byteLimit": 2048000,
      "rowLimit": 10000
     },
     "inputWidgets": {},
     "nuid": "7ed6574b-7a06-4d7d-9567-d5ad6f3017d3",
     "showTitle": false,
     "tableResultSettingsMap": {},
     "title": ""
    }
   },
   "source": [
    "Since we chose to do the lag of 6 months this created missing values in the column lag_6m_quantity(the first 6 month quantity of each product 12-2022 until 06-2023). For this reason we decided to remove these rows and start our training from 06-2023."
   ]
  },
  {
   "cell_type": "code",
   "execution_count": 0,
   "metadata": {
    "application/vnd.databricks.v1+cell": {
     "cellMetadata": {
      "byteLimit": 2048000,
      "rowLimit": 10000
     },
     "inputWidgets": {},
     "nuid": "a5c6b4bc-074c-4800-8b1b-d25fb9a8ee50",
     "showTitle": false,
     "tableResultSettingsMap": {},
     "title": ""
    }
   },
   "outputs": [
    {
     "output_type": "display_data",
     "data": {
      "text/html": [
       "<style scoped>\n",
       "  .table-result-container {\n",
       "    max-height: 300px;\n",
       "    overflow: auto;\n",
       "  }\n",
       "  table, th, td {\n",
       "    border: 1px solid black;\n",
       "    border-collapse: collapse;\n",
       "  }\n",
       "  th, td {\n",
       "    padding: 5px;\n",
       "  }\n",
       "  th {\n",
       "    text-align: left;\n",
       "  }\n",
       "</style><div class='table-result-container'><table class='table-result'><thead style='background-color: white'><tr><th>StockCode</th><th>month</th><th>total_quantity</th><th>date</th><th>year</th><th>month_num</th><th>month_sin</th><th>month_cos</th><th>lag_6m_quantity</th><th>rolling_avg_6m</th><th>rolling_std_6m</th></tr></thead><tbody><tr><td>10135</td><td>2023-06</td><td>73</td><td>2023-06-01</td><td>2023</td><td>6</td><td>1.2246467991473532E-16</td><td>-1.0</td><td>123</td><td>213.83333333333334</td><td>321.93130737265466</td></tr><tr><td>10135</td><td>2023-07</td><td>53</td><td>2023-07-01</td><td>2023</td><td>7</td><td>-0.4999999999999997</td><td>-0.8660254037844388</td><td>48</td><td>214.66666666666666</td><td>321.42225602261374</td></tr><tr><td>10135</td><td>2023-08</td><td>74</td><td>2023-08-01</td><td>2023</td><td>8</td><td>-0.8660254037844385</td><td>-0.5000000000000004</td><td>868</td><td>82.33333333333333</td><td>29.770231216211048</td></tr><tr><td>10135</td><td>2023-09</td><td>45</td><td>2023-09-01</td><td>2023</td><td>9</td><td>-1.0</td><td>-1.8369701987210297E-16</td><td>101</td><td>73.0</td><td>31.476975712415573</td></tr><tr><td>10135</td><td>2023-10</td><td>84</td><td>2023-10-01</td><td>2023</td><td>10</td><td>-0.8660254037844386</td><td>0.5000000000000001</td><td>60</td><td>77.0</td><td>31.016124838541646</td></tr></tbody></table></div>"
      ]
     },
     "metadata": {
      "application/vnd.databricks.v1+output": {
       "addedWidgets": {},
       "aggData": [],
       "aggError": "",
       "aggOverflow": false,
       "aggSchema": [],
       "aggSeriesLimitReached": false,
       "aggType": "",
       "arguments": {},
       "columnCustomDisplayInfos": {},
       "data": [
        [
         "10135",
         "2023-06",
         73,
         "2023-06-01",
         2023,
         6,
         1.2246467991473532E-16,
         -1.0,
         123,
         213.83333333333334,
         321.93130737265466
        ],
        [
         "10135",
         "2023-07",
         53,
         "2023-07-01",
         2023,
         7,
         -0.4999999999999997,
         -0.8660254037844388,
         48,
         214.66666666666666,
         321.42225602261374
        ],
        [
         "10135",
         "2023-08",
         74,
         "2023-08-01",
         2023,
         8,
         -0.8660254037844385,
         -0.5000000000000004,
         868,
         82.33333333333333,
         29.770231216211048
        ],
        [
         "10135",
         "2023-09",
         45,
         "2023-09-01",
         2023,
         9,
         -1.0,
         -1.8369701987210297E-16,
         101,
         73.0,
         31.476975712415573
        ],
        [
         "10135",
         "2023-10",
         84,
         "2023-10-01",
         2023,
         10,
         -0.8660254037844386,
         0.5000000000000001,
         60,
         77.0,
         31.016124838541646
        ]
       ],
       "datasetInfos": [],
       "dbfsResultPath": null,
       "isJsonSchema": true,
       "metadata": {},
       "overflow": false,
       "plotOptions": {
        "customPlotOptions": {},
        "displayType": "table",
        "pivotAggregation": null,
        "pivotColumns": null,
        "xColumns": null,
        "yColumns": null
       },
       "removedWidgets": [],
       "schema": [
        {
         "metadata": "{}",
         "name": "StockCode",
         "type": "\"string\""
        },
        {
         "metadata": "{}",
         "name": "month",
         "type": "\"string\""
        },
        {
         "metadata": "{}",
         "name": "total_quantity",
         "type": "\"long\""
        },
        {
         "metadata": "{}",
         "name": "date",
         "type": "\"date\""
        },
        {
         "metadata": "{}",
         "name": "year",
         "type": "\"integer\""
        },
        {
         "metadata": "{}",
         "name": "month_num",
         "type": "\"integer\""
        },
        {
         "metadata": "{}",
         "name": "month_sin",
         "type": "\"double\""
        },
        {
         "metadata": "{}",
         "name": "month_cos",
         "type": "\"double\""
        },
        {
         "metadata": "{}",
         "name": "lag_6m_quantity",
         "type": "\"long\""
        },
        {
         "metadata": "{}",
         "name": "rolling_avg_6m",
         "type": "\"double\""
        },
        {
         "metadata": "{}",
         "name": "rolling_std_6m",
         "type": "\"double\""
        }
       ],
       "type": "table"
      }
     },
     "output_type": "display_data"
    }
   ],
   "source": [
    "# Add \"month\" column\n",
    "df_final = df_final.withColumn(\"month\", date_format(col(\"date\"), \"yyyy-MM\"))\n",
    "\n",
    "# Define required months as Spark array\n",
    "required_months = [f\"{y}-{str(m).zfill(2)}\" for y in range(2023, 2026) for m in range(1, 13)]\n",
    "required_months = [m for m in required_months if \"2023-06\" <= m <= \"2025-06\"]\n",
    "required_months_array = array(*[lit(m) for m in required_months])\n",
    "\n",
    "# Get months available for each StockCode only in the target range\n",
    "stock_months = df_final.filter(col(\"month\").between(\"2023-06\", \"2025-06\")) \\\n",
    "    .select(\"StockCode\", \"month\") \\\n",
    "    .distinct() \\\n",
    "    .groupBy(\"StockCode\") \\\n",
    "    .agg(array_sort(collect_set(\"month\")).alias(\"months_present\"))\n",
    "\n",
    "# Keep only StockCodes with ALL required months\n",
    "valid_products = stock_months.filter(\n",
    "    size(array_except(required_months_array, col(\"months_present\"))) == 0\n",
    ").select(\"StockCode\")\n",
    "\n",
    "# Join and KEEP ONLY records in 2023-06 to 2025-06\n",
    "df_final = df_final.join(valid_products, on=\"StockCode\", how=\"inner\") \\\n",
    "                   .filter(col(\"month\").between(\"2023-06\", \"2025-06\"))\n",
    "\n",
    "display(df_final.limit(5))"
   ]
  },
  {
   "cell_type": "code",
   "execution_count": 0,
   "metadata": {
    "application/vnd.databricks.v1+cell": {
     "cellMetadata": {
      "byteLimit": 2048000,
      "rowLimit": 10000
     },
     "inputWidgets": {},
     "nuid": "4e0ac3e7-8bc7-46c0-8962-230b745cd64a",
     "showTitle": false,
     "tableResultSettingsMap": {},
     "title": ""
    }
   },
   "outputs": [
    {
     "output_type": "stream",
     "name": "stdout",
     "output_type": "stream",
     "text": [
      "Number of rows: 24250\n"
     ]
    }
   ],
   "source": [
    "row_count = df_final.count()\n",
    "print(f\"Number of rows: {row_count}\")"
   ]
  },
  {
   "cell_type": "markdown",
   "metadata": {
    "application/vnd.databricks.v1+cell": {
     "cellMetadata": {
      "byteLimit": 2048000,
      "rowLimit": 10000
     },
     "inputWidgets": {},
     "nuid": "c2bddc5b-449c-4d38-b43e-741f4aca9535",
     "showTitle": false,
     "tableResultSettingsMap": {},
     "title": ""
    }
   },
   "source": [
    "Another problem we had is that for features rolling_avg_6m and rolling_std_6m we had missig values in the month 2025-05 to fix this problem we opted for the forward-fill solution to fill these missing values"
   ]
  },
  {
   "cell_type": "code",
   "execution_count": 0,
   "metadata": {
    "application/vnd.databricks.v1+cell": {
     "cellMetadata": {
      "byteLimit": 2048000,
      "rowLimit": 10000
     },
     "inputWidgets": {},
     "nuid": "59c05208-9f76-4c2c-bf8d-7e284fa86e41",
     "showTitle": false,
     "tableResultSettingsMap": {},
     "title": ""
    }
   },
   "outputs": [
    {
     "output_type": "display_data",
     "data": {
      "text/html": [
       "<style scoped>\n",
       "  .table-result-container {\n",
       "    max-height: 300px;\n",
       "    overflow: auto;\n",
       "  }\n",
       "  table, th, td {\n",
       "    border: 1px solid black;\n",
       "    border-collapse: collapse;\n",
       "  }\n",
       "  th, td {\n",
       "    padding: 5px;\n",
       "  }\n",
       "  th {\n",
       "    text-align: left;\n",
       "  }\n",
       "</style><div class='table-result-container'><table class='table-result'><thead style='background-color: white'><tr><th>StockCode</th><th>month</th><th>total_quantity</th><th>date</th><th>year</th><th>month_num</th><th>month_sin</th><th>month_cos</th><th>lag_6m_quantity</th><th>rolling_avg_6m</th><th>rolling_std_6m</th></tr></thead><tbody><tr><td>10135</td><td>2023-06</td><td>73</td><td>2023-06-01</td><td>2023</td><td>202306</td><td>1.2246467991473532E-16</td><td>-1.0</td><td>123</td><td>213.83333333333334</td><td>321.93130737265466</td></tr><tr><td>10135</td><td>2023-07</td><td>53</td><td>2023-07-01</td><td>2023</td><td>202307</td><td>-0.4999999999999997</td><td>-0.8660254037844388</td><td>48</td><td>214.66666666666666</td><td>321.42225602261374</td></tr><tr><td>10135</td><td>2023-08</td><td>74</td><td>2023-08-01</td><td>2023</td><td>202308</td><td>-0.8660254037844385</td><td>-0.5000000000000004</td><td>868</td><td>82.33333333333333</td><td>29.770231216211048</td></tr><tr><td>10135</td><td>2023-09</td><td>45</td><td>2023-09-01</td><td>2023</td><td>202309</td><td>-1.0</td><td>-1.8369701987210297E-16</td><td>101</td><td>73.0</td><td>31.476975712415573</td></tr><tr><td>10135</td><td>2023-10</td><td>84</td><td>2023-10-01</td><td>2023</td><td>202310</td><td>-0.8660254037844386</td><td>0.5000000000000001</td><td>60</td><td>77.0</td><td>31.016124838541646</td></tr></tbody></table></div>"
      ]
     },
     "metadata": {
      "application/vnd.databricks.v1+output": {
       "addedWidgets": {},
       "aggData": [],
       "aggError": "",
       "aggOverflow": false,
       "aggSchema": [],
       "aggSeriesLimitReached": false,
       "aggType": "",
       "arguments": {},
       "columnCustomDisplayInfos": {},
       "data": [
        [
         "10135",
         "2023-06",
         73,
         "2023-06-01",
         2023,
         202306,
         1.2246467991473532E-16,
         -1.0,
         123,
         213.83333333333334,
         321.93130737265466
        ],
        [
         "10135",
         "2023-07",
         53,
         "2023-07-01",
         2023,
         202307,
         -0.4999999999999997,
         -0.8660254037844388,
         48,
         214.66666666666666,
         321.42225602261374
        ],
        [
         "10135",
         "2023-08",
         74,
         "2023-08-01",
         2023,
         202308,
         -0.8660254037844385,
         -0.5000000000000004,
         868,
         82.33333333333333,
         29.770231216211048
        ],
        [
         "10135",
         "2023-09",
         45,
         "2023-09-01",
         2023,
         202309,
         -1.0,
         -1.8369701987210297E-16,
         101,
         73.0,
         31.476975712415573
        ],
        [
         "10135",
         "2023-10",
         84,
         "2023-10-01",
         2023,
         202310,
         -0.8660254037844386,
         0.5000000000000001,
         60,
         77.0,
         31.016124838541646
        ]
       ],
       "datasetInfos": [],
       "dbfsResultPath": null,
       "isJsonSchema": true,
       "metadata": {},
       "overflow": false,
       "plotOptions": {
        "customPlotOptions": {},
        "displayType": "table",
        "pivotAggregation": null,
        "pivotColumns": null,
        "xColumns": null,
        "yColumns": null
       },
       "removedWidgets": [],
       "schema": [
        {
         "metadata": "{}",
         "name": "StockCode",
         "type": "\"string\""
        },
        {
         "metadata": "{}",
         "name": "month",
         "type": "\"string\""
        },
        {
         "metadata": "{}",
         "name": "total_quantity",
         "type": "\"long\""
        },
        {
         "metadata": "{}",
         "name": "date",
         "type": "\"date\""
        },
        {
         "metadata": "{}",
         "name": "year",
         "type": "\"integer\""
        },
        {
         "metadata": "{}",
         "name": "month_num",
         "type": "\"integer\""
        },
        {
         "metadata": "{}",
         "name": "month_sin",
         "type": "\"double\""
        },
        {
         "metadata": "{}",
         "name": "month_cos",
         "type": "\"double\""
        },
        {
         "metadata": "{}",
         "name": "lag_6m_quantity",
         "type": "\"long\""
        },
        {
         "metadata": "{}",
         "name": "rolling_avg_6m",
         "type": "\"double\""
        },
        {
         "metadata": "{}",
         "name": "rolling_std_6m",
         "type": "\"double\""
        }
       ],
       "type": "table"
      }
     },
     "output_type": "display_data"
    }
   ],
   "source": [
    "# Ensure month_num exists for sorting\n",
    "df_final = df_final.withColumn(\n",
    "    \"month_num\",\n",
    "    col(\"month\").substr(1, 4).cast(\"int\") * 100 + col(\"month\").substr(6, 2).cast(\"int\")\n",
    ")\n",
    "\n",
    "# Define forward-fill window (up to current row)\n",
    "forward_window = Window.partitionBy(\"StockCode\").orderBy(\"month_num\").rowsBetween(Window.unboundedPreceding, 0)\n",
    "\n",
    "# Forward-fill rolling_avg_6m and rolling_std_6m\n",
    "df_final = df_final.withColumn(\n",
    "    \"rolling_avg_6m\",\n",
    "    last(\"rolling_avg_6m\", ignorenulls=True).over(forward_window)\n",
    ").withColumn(\n",
    "    \"rolling_std_6m\",\n",
    "    last(\"rolling_std_6m\", ignorenulls=True).over(forward_window)\n",
    ")\n",
    "\n",
    "display(df_final.limit(5))"
   ]
  },
  {
   "cell_type": "markdown",
   "metadata": {
    "application/vnd.databricks.v1+cell": {
     "cellMetadata": {
      "byteLimit": 2048000,
      "rowLimit": 10000
     },
     "inputWidgets": {},
     "nuid": "65410ca9-973f-43fd-9945-cac46cf4695e",
     "showTitle": false,
     "tableResultSettingsMap": {},
     "title": ""
    }
   },
   "source": [
    "### Splitting data frame"
   ]
  },
  {
   "cell_type": "code",
   "execution_count": 0,
   "metadata": {
    "application/vnd.databricks.v1+cell": {
     "cellMetadata": {
      "byteLimit": 2048000,
      "rowLimit": 10000
     },
     "inputWidgets": {},
     "nuid": "1e7678d6-5f73-4dcd-8f2a-274a805f3998",
     "showTitle": false,
     "tableResultSettingsMap": {},
     "title": ""
    }
   },
   "outputs": [],
   "source": [
    "# Train: 2023-06 to 2024-06\n",
    "df_train = df_final.filter((col(\"month\") >= \"2023-06\") & (col(\"month\") <= \"2024-06\"))\n",
    "\n",
    "# Validation: 2024-07 to 2024-12\n",
    "df_val = df_final.filter((col(\"month\") >= \"2024-07\") & (col(\"month\") <= \"2024-12\"))\n",
    "\n",
    "# Test: 2025-01 to 2025-06\n",
    "df_test = df_final.filter((col(\"month\") >= \"2025-01\") & (col(\"month\") <= \"2025-06\"))\n"
   ]
  },
  {
   "cell_type": "markdown",
   "metadata": {
    "application/vnd.databricks.v1+cell": {
     "cellMetadata": {
      "byteLimit": 2048000,
      "rowLimit": 10000
     },
     "inputWidgets": {},
     "nuid": "b51f5fce-287e-41c2-b8e7-a96760fbbde1",
     "showTitle": false,
     "tableResultSettingsMap": {},
     "title": ""
    }
   },
   "source": [
    "### Model Assessment\n",
    "Because of the limitations of databricks communty edition we couldn't do forecasting for all products. That's why we chose to only run predictions for only one product."
   ]
  },
  {
   "cell_type": "markdown",
   "metadata": {
    "application/vnd.databricks.v1+cell": {
     "cellMetadata": {
      "byteLimit": 2048000,
      "rowLimit": 10000
     },
     "inputWidgets": {},
     "nuid": "655a50af-0a23-49df-8cac-d0ccd47e5559",
     "showTitle": false,
     "tableResultSettingsMap": {},
     "title": ""
    }
   },
   "source": [
    "##### Linear Regression Model"
   ]
  },
  {
   "cell_type": "code",
   "execution_count": 0,
   "metadata": {
    "application/vnd.databricks.v1+cell": {
     "cellMetadata": {
      "byteLimit": 2048000,
      "rowLimit": 10000
     },
     "inputWidgets": {},
     "nuid": "e89514fd-eb66-4141-8217-24a46f9e740f",
     "showTitle": false,
     "tableResultSettingsMap": {},
     "title": ""
    }
   },
   "outputs": [
    {
     "output_type": "stream",
     "name": "stdout",
     "output_type": "stream",
     "text": [
      "Validation RMSE: 95.90\n  StockCode    month  total_quantity  predicted_quantity\n0     10135  2024-07             177          183.531516\n1     10135  2024-08             151          114.776664\n2     10135  2024-09              70           94.209558\n3     10135  2024-10              68          116.838288\n4     10135  2024-11             181          157.540407\n5     10135  2024-12              69          293.279953\n  StockCode    month  predicted_quantity\n0     10135  2025-01          459.997878\n1     10135  2025-02          588.241352\n2     10135  2025-03          608.978579\n3     10135  2025-04          533.197924\n4     10135  2025-05          553.538932\n5     10135  2025-06          411.801672\n"
     ]
    }
   ],
   "source": [
    "features_LR = ['month_sin', 'rolling_avg_6m', 'rolling_std_6m']\n",
    "target = 'total_quantity'\n",
    "\n",
    "# Choose a single stock code to test\n",
    "test_stock_code = '10135'  \n",
    "\n",
    "# Filter and convert to pandas\n",
    "train_product = df_train.filter(col(\"StockCode\") == test_stock_code).dropna().toPandas()\n",
    "val_product = df_val.filter(col(\"StockCode\") == test_stock_code).dropna().toPandas()\n",
    "test_product = df_test.filter(col(\"StockCode\") == test_stock_code).toPandas()\n",
    "# Check if both datasets are not empty\n",
    "if not train_product.empty and not val_product.empty:\n",
    "    # Train and predict using Linear Regression\n",
    "    model = LinearRegression()\n",
    "    model.fit(train_product[features_LR], train_product[target])\n",
    "    preds = model.predict(val_product[features_LR])\n",
    "    preds_test = model.predict(test_product[features_LR])\n",
    "\n",
    "    val_product['predicted_quantity'] = preds\n",
    "    test_product['predicted_quantity'] = preds_test\n",
    "    # Calculate RMSE for validation\n",
    "    rmse = np.sqrt(mean_squared_error(val_product[target], val_product['predicted_quantity']))\n",
    "    print(f\"Validation RMSE: {rmse:.2f}\")\n",
    "    # Final forecast for this stock\n",
    "    final_forecast = val_product[['StockCode', 'month', 'total_quantity', 'predicted_quantity']]\n",
    "    print(final_forecast)\n",
    "    # Final forecast for this stock in test\n",
    "    final_forecast_test = test_product[['StockCode', 'month', 'predicted_quantity']]\n",
    "    print(final_forecast_test)\n",
    "else:\n",
    "    print(f\"No data found for StockCode {test_stock_code}\")\n"
   ]
  }
 ],
 "metadata": {
  "application/vnd.databricks.v1+notebook": {
   "computePreferences": null,
   "dashboards": [],
   "environmentMetadata": {
    "base_environment": "",
    "environment_version": "1"
   },
   "inputWidgetPreferences": null,
   "language": "python",
   "notebookMetadata": {
    "pythonIndentUnit": 4
   },
   "notebookName": "Project Forecasting_ LR_",
   "widgets": {}
  }
 },
 "nbformat": 4,
 "nbformat_minor": 0
}