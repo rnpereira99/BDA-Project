{
 "cells": [
  {
   "cell_type": "markdown",
   "metadata": {
    "application/vnd.databricks.v1+cell": {
     "cellMetadata": {
      "byteLimit": 2048000,
      "rowLimit": 10000
     },
     "inputWidgets": {},
     "nuid": "ccb34557-5477-4566-a31c-1a72b8fc8229",
     "showTitle": false,
     "tableResultSettingsMap": {},
     "title": ""
    }
   },
   "source": [
    "<div class=\"alert alert-block alert-info\">\n",
    "<center> <h1> Customer Segmentation and Sales Forecast</h1> </center> <br>\n",
    "<center> Big Data Analytics 2025</center><br>\n",
    "<center> NOVA IMS MDSAA</center>"
   ]
  },
  {
   "cell_type": "markdown",
   "metadata": {
    "application/vnd.databricks.v1+cell": {
     "cellMetadata": {
      "byteLimit": 2048000,
      "rowLimit": 10000
     },
     "inputWidgets": {},
     "nuid": "2c031e5a-f3df-4924-ab30-73b135e0be45",
     "showTitle": false,
     "tableResultSettingsMap": {},
     "title": ""
    }
   },
   "source": [
    "### [NOTE]\n",
    "In this project, we are going to work on 4 notebooks:\n",
    "- 1. **Data Preprocessing**: For EDA, Data Preprocessing, Creating DataFrames, and Feature Engineering\n",
    "- 2. **Clustering**: For Clustering \n",
    "- 3. **Sales Forecasting**: For Sales Forecast\n",
    "- 4. **Graph**: For Graph Visualization for Clusters\n",
    "<br>\n",
    "##### This notebook is 3. Sales Forecasting."
   ]
  },
  {
   "cell_type": "markdown",
   "metadata": {
    "application/vnd.databricks.v1+cell": {
     "cellMetadata": {
      "byteLimit": 2048000,
      "rowLimit": 10000
     },
     "inputWidgets": {},
     "nuid": "7132f967-d718-4935-95df-09f91160a3e6",
     "showTitle": false,
     "tableResultSettingsMap": {},
     "title": ""
    }
   },
   "source": [
    "# Group 77\n",
    "\n",
    "|   | Student Name          |  Student ID | \n",
    "|---|-----------------------|    ---      |\n",
    "| 1 | Hassan Bhatti       |  20241023 |\n",
    "| 2 | Moeko Mitani          |   20240670  | \n",
    "| 3 | Oumayma Ben Hfaiedh   |   20240699  | \n",
    "| 4 | Ricardo Pereira      |  20240745  | "
   ]
  },
  {
   "cell_type": "markdown",
   "metadata": {
    "application/vnd.databricks.v1+cell": {
     "cellMetadata": {
      "byteLimit": 2048000,
      "rowLimit": 10000
     },
     "inputWidgets": {},
     "nuid": "9a129086-0172-44c5-aba6-80d561400c5d",
     "showTitle": false,
     "tableResultSettingsMap": {},
     "title": ""
    }
   },
   "source": [
    "# 1. Data Integration "
   ]
  },
  {
   "cell_type": "markdown",
   "metadata": {
    "application/vnd.databricks.v1+cell": {
     "cellMetadata": {
      "byteLimit": 2048000,
      "rowLimit": 10000
     },
     "inputWidgets": {},
     "nuid": "73cfb775-675c-4aa3-a0be-4dfb393a2fa3",
     "showTitle": false,
     "tableResultSettingsMap": {},
     "title": ""
    }
   },
   "source": [
    "## 1.1. Import Libraries"
   ]
  },
  {
   "cell_type": "code",
   "execution_count": 0,
   "metadata": {
    "application/vnd.databricks.v1+cell": {
     "cellMetadata": {
      "byteLimit": 2048000,
      "rowLimit": 10000
     },
     "inputWidgets": {},
     "nuid": "048f0c05-b9ca-414d-b895-3014125f3c97",
     "showTitle": false,
     "tableResultSettingsMap": {},
     "title": ""
    }
   },
   "outputs": [
    {
     "data": {
      "application/vnd.databricks.v1+bamboolib_hint": "{\"pd.DataFrames\": [], \"version\": \"0.0.1\"}",
      "text/plain": []
     },
     "metadata": {},
     "output_type": "display_data"
    }
   ],
   "source": [
    "# Core PySpark\n",
    "from pyspark.sql import SparkSession, Row\n",
    "from pyspark.sql.functions import (\n",
    "    col, lit, to_date, date_format, year, month, dayofmonth,\n",
    "    sin, cos, avg, stddev, lag, when, countDistinct,\n",
    "    sum as spark_sum, max as spark_max, monotonically_increasing_id,\n",
    "    datediff, current_date\n",
    ")\n",
    "from pyspark.sql.window import Window\n",
    "\n",
    "# PySpark ML\n",
    "from pyspark.ml import Pipeline\n",
    "from pyspark.ml.feature import (\n",
    "    VectorAssembler, PCA, StringIndexer, StandardScaler\n",
    ")\n",
    "from pyspark.ml.clustering import KMeans\n",
    "from pyspark.ml.evaluation import ClusteringEvaluator\n",
    "from pyspark.ml.regression import LinearRegression\n",
    "\n",
    "# Pandas, NumPy, Matplotlib, Seaborn\n",
    "import pandas as pd\n",
    "import numpy as np\n",
    "import matplotlib.pyplot as plt\n",
    "import seaborn as sns\n",
    "from matplotlib.colors import ListedColormap\n",
    "import matplotlib.cm as cm\n",
    "\n",
    "# Scikit-learn\n",
    "from sklearn.linear_model import LinearRegression\n",
    "from sklearn.metrics import mean_squared_error, silhouette_score, silhouette_samples, confusion_matrix\n",
    "from sklearn.ensemble import RandomForestRegressor, GradientBoostingRegressor\n",
    "from sklearn.model_selection import RandomizedSearchCV\n",
    "\n",
    "# statsmodels\n",
    "from statsmodels.tsa.statespace.sarimax import SARIMAX\n",
    "\n",
    "# Date utils\n",
    "from datetime import datetime\n",
    "from dateutil.relativedelta import relativedelta"
   ]
  },
  {
   "cell_type": "code",
   "execution_count": 0,
   "metadata": {
    "application/vnd.databricks.v1+cell": {
     "cellMetadata": {
      "byteLimit": 2048000,
      "rowLimit": 10000
     },
     "inputWidgets": {},
     "nuid": "74431799-7c85-4cae-9a96-da146e9cd6df",
     "showTitle": false,
     "tableResultSettingsMap": {},
     "title": ""
    }
   },
   "outputs": [],
   "source": [
    "# Start Spark session\n",
    "spark = SparkSession.builder.appName(\"Project_Group77\").getOrCreate()"
   ]
  },
  {
   "cell_type": "markdown",
   "metadata": {
    "application/vnd.databricks.v1+cell": {
     "cellMetadata": {
      "byteLimit": 2048000,
      "rowLimit": 10000
     },
     "inputWidgets": {},
     "nuid": "c0ba0e78-27b5-4346-8a92-4f37a4fe2065",
     "showTitle": false,
     "tableResultSettingsMap": {},
     "title": ""
    }
   },
   "source": [
    "## 1.2. Import CSV File (from previous Notebook: 1. Data Preprocessing)"
   ]
  },
  {
   "cell_type": "code",
   "execution_count": 0,
   "metadata": {
    "application/vnd.databricks.v1+cell": {
     "cellMetadata": {
      "byteLimit": 2048000,
      "rowLimit": 10000
     },
     "inputWidgets": {},
     "nuid": "ec85b55a-2dc5-4ae4-864a-e7f3fa5e4a4c",
     "showTitle": false,
     "tableResultSettingsMap": {},
     "title": ""
    }
   },
   "outputs": [
    {
     "data": {
      "text/html": [
       "<style scoped>\n",
       "  .table-result-container {\n",
       "    max-height: 300px;\n",
       "    overflow: auto;\n",
       "  }\n",
       "  table, th, td {\n",
       "    border: 1px solid black;\n",
       "    border-collapse: collapse;\n",
       "  }\n",
       "  th, td {\n",
       "    padding: 5px;\n",
       "  }\n",
       "  th {\n",
       "    text-align: left;\n",
       "  }\n",
       "</style><div class='table-result-container'><table class='table-result'><thead style='background-color: white'><tr><th>StockCode</th><th>month</th><th>total_quantity</th><th>date</th><th>year</th><th>month_num</th><th>month_sin</th><th>month_cos</th><th>lag_6m_quantity</th><th>rolling_avg_6m</th><th>rolling_std_6m</th></tr></thead><tbody><tr><td>10135</td><td>2023-06-01</td><td>73.0</td><td>2023-06-01</td><td>2023</td><td>202306</td><td>1.2246467991473532E-16</td><td>-1.0</td><td>123.0</td><td>213.83333333333334</td><td>321.93130737265466</td></tr><tr><td>10135</td><td>2023-07-01</td><td>53.0</td><td>2023-07-01</td><td>2023</td><td>202307</td><td>-0.4999999999999997</td><td>-0.8660254037844388</td><td>48.0</td><td>214.66666666666666</td><td>321.42225602261374</td></tr><tr><td>10135</td><td>2023-08-01</td><td>74.0</td><td>2023-08-01</td><td>2023</td><td>202308</td><td>-0.8660254037844385</td><td>-0.5000000000000004</td><td>868.0</td><td>82.33333333333333</td><td>29.770231216211048</td></tr><tr><td>10135</td><td>2023-09-01</td><td>45.0</td><td>2023-09-01</td><td>2023</td><td>202309</td><td>-1.0</td><td>-1.8369701987210297E-16</td><td>101.0</td><td>73.0</td><td>31.476975712415573</td></tr><tr><td>10135</td><td>2023-10-01</td><td>84.0</td><td>2023-10-01</td><td>2023</td><td>202310</td><td>-0.8660254037844386</td><td>0.5000000000000001</td><td>60.0</td><td>77.0</td><td>31.016124838541646</td></tr><tr><td>10135</td><td>2023-11-01</td><td>325.0</td><td>2023-11-01</td><td>2023</td><td>202311</td><td>-0.5000000000000004</td><td>0.8660254037844384</td><td>133.0</td><td>109.0</td><td>106.80262169066825</td></tr><tr><td>10135</td><td>2023-12-01</td><td>411.0</td><td>2023-12-01</td><td>2023</td><td>202312</td><td>-2.4492935982947064E-16</td><td>1.0</td><td>73.0</td><td>165.33333333333334</td><td>159.93832144507041</td></tr><tr><td>10135</td><td>2024-01-01</td><td>613.0</td><td>2024-01-01</td><td>2024</td><td>202401</td><td>0.49999999999999994</td><td>0.8660254037844387</td><td>53.0</td><td>258.6666666666667</td><td>229.53053536875365</td></tr><tr><td>10135</td><td>2024-02-01</td><td>272.0</td><td>2024-02-01</td><td>2024</td><td>202402</td><td>0.8660254037844386</td><td>0.5000000000000001</td><td>74.0</td><td>291.6666666666667</td><td>211.16975793580545</td></tr><tr><td>10135</td><td>2024-03-01</td><td>118.0</td><td>2024-03-01</td><td>2024</td><td>202403</td><td>1.0</td><td>6.123233995736766E-17</td><td>45.0</td><td>303.8333333333333</td><td>195.64806839492863</td></tr></tbody></table></div>"
      ]
     },
     "metadata": {
      "application/vnd.databricks.v1+output": {
       "addedWidgets": {},
       "aggData": [],
       "aggError": "",
       "aggOverflow": false,
       "aggSchema": [],
       "aggSeriesLimitReached": false,
       "aggType": "",
       "arguments": {},
       "columnCustomDisplayInfos": {},
       "data": [
        [
         "10135",
         "2023-06-01",
         73,
         "2023-06-01",
         2023,
         202306,
         1.2246467991473532e-16,
         -1,
         123,
         213.83333333333334,
         321.93130737265466
        ],
        [
         "10135",
         "2023-07-01",
         53,
         "2023-07-01",
         2023,
         202307,
         -0.4999999999999997,
         -0.8660254037844388,
         48,
         214.66666666666666,
         321.42225602261374
        ],
        [
         "10135",
         "2023-08-01",
         74,
         "2023-08-01",
         2023,
         202308,
         -0.8660254037844385,
         -0.5000000000000004,
         868,
         82.33333333333333,
         29.770231216211048
        ],
        [
         "10135",
         "2023-09-01",
         45,
         "2023-09-01",
         2023,
         202309,
         -1,
         -1.8369701987210297e-16,
         101,
         73,
         31.476975712415573
        ],
        [
         "10135",
         "2023-10-01",
         84,
         "2023-10-01",
         2023,
         202310,
         -0.8660254037844386,
         0.5000000000000001,
         60,
         77,
         31.016124838541646
        ],
        [
         "10135",
         "2023-11-01",
         325,
         "2023-11-01",
         2023,
         202311,
         -0.5000000000000004,
         0.8660254037844384,
         133,
         109,
         106.80262169066825
        ],
        [
         "10135",
         "2023-12-01",
         411,
         "2023-12-01",
         2023,
         202312,
         -2.4492935982947064e-16,
         1,
         73,
         165.33333333333334,
         159.93832144507041
        ],
        [
         "10135",
         "2024-01-01",
         613,
         "2024-01-01",
         2024,
         202401,
         0.49999999999999994,
         0.8660254037844387,
         53,
         258.6666666666667,
         229.53053536875365
        ],
        [
         "10135",
         "2024-02-01",
         272,
         "2024-02-01",
         2024,
         202402,
         0.8660254037844386,
         0.5000000000000001,
         74,
         291.6666666666667,
         211.16975793580545
        ],
        [
         "10135",
         "2024-03-01",
         118,
         "2024-03-01",
         2024,
         202403,
         1,
         6.123233995736766e-17,
         45,
         303.8333333333333,
         195.64806839492863
        ]
       ],
       "datasetInfos": [],
       "dbfsResultPath": null,
       "isJsonSchema": true,
       "metadata": {},
       "overflow": false,
       "plotOptions": {
        "customPlotOptions": {},
        "displayType": "table",
        "pivotAggregation": null,
        "pivotColumns": null,
        "xColumns": null,
        "yColumns": null
       },
       "removedWidgets": [],
       "schema": [
        {
         "metadata": "{}",
         "name": "StockCode",
         "type": "\"string\""
        },
        {
         "metadata": "{\"__detected_date_formats\":\"yyyy-M\"}",
         "name": "month",
         "type": "\"date\""
        },
        {
         "metadata": "{}",
         "name": "total_quantity",
         "type": "\"double\""
        },
        {
         "metadata": "{\"__detected_date_formats\":\"yyyy-M-d\"}",
         "name": "date",
         "type": "\"date\""
        },
        {
         "metadata": "{}",
         "name": "year",
         "type": "\"integer\""
        },
        {
         "metadata": "{}",
         "name": "month_num",
         "type": "\"integer\""
        },
        {
         "metadata": "{}",
         "name": "month_sin",
         "type": "\"double\""
        },
        {
         "metadata": "{}",
         "name": "month_cos",
         "type": "\"double\""
        },
        {
         "metadata": "{}",
         "name": "lag_6m_quantity",
         "type": "\"double\""
        },
        {
         "metadata": "{}",
         "name": "rolling_avg_6m",
         "type": "\"double\""
        },
        {
         "metadata": "{}",
         "name": "rolling_std_6m",
         "type": "\"double\""
        }
       ],
       "type": "table"
      }
     },
     "output_type": "display_data"
    },
    {
     "name": "stdout",
     "output_type": "stream",
     "text": [
      "Out[3]: StructType([StructField('StockCode', StringType(), True), StructField('month', DateType(), True), StructField('total_quantity', DoubleType(), True), StructField('date', DateType(), True), StructField('year', IntegerType(), True), StructField('month_num', IntegerType(), True), StructField('month_sin', DoubleType(), True), StructField('month_cos', DoubleType(), True), StructField('lag_6m_quantity', DoubleType(), True), StructField('rolling_avg_6m', DoubleType(), True), StructField('rolling_std_6m', DoubleType(), True)])"
     ]
    }
   ],
   "source": [
    "# File location and type\n",
    "file_location = \"/FileStore/df_sf.csv\"\n",
    "file_type = \"csv\"\n",
    "\n",
    "# CSV options\n",
    "infer_schema = \"true\"\n",
    "first_row_is_header = \"true\"\n",
    "delimiter = \",\"\n",
    "\n",
    "# The applied options are for CSV files. For other file types, these will be ignored.\n",
    "df_final = spark.read.format(file_type) \\\n",
    "  .option(\"inferSchema\", infer_schema) \\\n",
    "  .option(\"header\", first_row_is_header) \\\n",
    "  .option(\"sep\", delimiter) \\\n",
    "  .load(file_location)\n",
    "\n",
    "df_final.limit(10).display()\n",
    "df_final.schema\n"
   ]
  },
  {
   "cell_type": "markdown",
   "metadata": {
    "application/vnd.databricks.v1+cell": {
     "cellMetadata": {
      "byteLimit": 2048000,
      "rowLimit": 10000
     },
     "inputWidgets": {},
     "nuid": "65410ca9-973f-43fd-9945-cac46cf4695e",
     "showTitle": false,
     "tableResultSettingsMap": {},
     "title": ""
    }
   },
   "source": [
    "# 2. Split DataFrame"
   ]
  },
  {
   "cell_type": "markdown",
   "metadata": {
    "application/vnd.databricks.v1+cell": {
     "cellMetadata": {
      "byteLimit": 2048000,
      "rowLimit": 10000
     },
     "inputWidgets": {},
     "nuid": "b8e19fbc-6206-48bd-a9c1-98cd2fde00d0",
     "showTitle": false,
     "tableResultSettingsMap": {},
     "title": ""
    }
   },
   "source": [
    "We are going to split the data into three time-based sets: train set (*df_train*), validation set (*df_val*), and test set (*df_test*).\n",
    "- Train set (*df_train*): The data set where the month is between June 2023 and June 2024 (1 year).\n",
    "- Validation set (*df_val*): The data set with months from July 2024 to December 2024 (6 months).\n",
    "- Test set (*df_test*): The data set from January 2025 to June 2025 (6 months)."
   ]
  },
  {
   "cell_type": "code",
   "execution_count": 0,
   "metadata": {
    "application/vnd.databricks.v1+cell": {
     "cellMetadata": {
      "byteLimit": 2048000,
      "rowLimit": 10000
     },
     "inputWidgets": {},
     "nuid": "1e7678d6-5f73-4dcd-8f2a-274a805f3998",
     "showTitle": false,
     "tableResultSettingsMap": {},
     "title": ""
    }
   },
   "outputs": [],
   "source": [
    "# Train: 2023-06 to 2024-06\n",
    "df_train = df_final.filter((col(\"month\") >= \"2023-06\") & (col(\"month\") <= \"2024-06\"))\n",
    "\n",
    "# Validation: 2024-07 to 2024-12\n",
    "df_val = df_final.filter((col(\"month\") >= \"2024-07\") & (col(\"month\") <= \"2024-12\"))\n",
    "\n",
    "# Test: 2025-01 to 2025-06\n",
    "df_test = df_final.filter((col(\"month\") >= \"2025-01\") & (col(\"month\") <= \"2025-06\"))\n"
   ]
  },
  {
   "cell_type": "markdown",
   "metadata": {
    "application/vnd.databricks.v1+cell": {
     "cellMetadata": {
      "byteLimit": 2048000,
      "rowLimit": 10000
     },
     "inputWidgets": {},
     "nuid": "b51f5fce-287e-41c2-b8e7-a96760fbbde1",
     "showTitle": false,
     "tableResultSettingsMap": {},
     "title": ""
    }
   },
   "source": [
    "# 3. Model Assessment\n",
    "Because of the limitations of databricks communty edition we couldn't do forecasting for all products. That's why we chose to only run predictions for only **one product: 10135**."
   ]
  },
  {
   "cell_type": "markdown",
   "metadata": {
    "application/vnd.databricks.v1+cell": {
     "cellMetadata": {
      "byteLimit": 2048000,
      "rowLimit": 10000
     },
     "inputWidgets": {},
     "nuid": "655a50af-0a23-49df-8cac-d0ccd47e5559",
     "showTitle": false,
     "tableResultSettingsMap": {},
     "title": ""
    }
   },
   "source": [
    "## 3.1. Comparison between Different Models\n",
    "\n",
    "We are going to apply different models; **Linear Regression, Random Forest, Gradient Boost**, and **SARIMAX**, to check which model works best for our dataset."
   ]
  },
  {
   "cell_type": "code",
   "execution_count": 0,
   "metadata": {
    "application/vnd.databricks.v1+cell": {
     "cellMetadata": {
      "byteLimit": 2048000,
      "rowLimit": 10000
     },
     "inputWidgets": {},
     "nuid": "f33b993d-2aad-4cf4-a87d-d43122ba339f",
     "showTitle": false,
     "tableResultSettingsMap": {},
     "title": ""
    }
   },
   "outputs": [
    {
     "name": "stderr",
     "output_type": "stream",
     "text": [
      "/databricks/python/lib/python3.9/site-packages/statsmodels/tsa/base/tsa_model.py:471: ValueWarning: No frequency information was provided, so inferred frequency MS will be used.\n",
      "  self._init_dates(dates, freq)\n",
      "/databricks/python/lib/python3.9/site-packages/statsmodels/tsa/base/tsa_model.py:471: ValueWarning: No frequency information was provided, so inferred frequency MS will be used.\n",
      "  self._init_dates(dates, freq)\n",
      "/databricks/python/lib/python3.9/site-packages/statsmodels/tsa/statespace/sarimax.py:866: UserWarning: Too few observations to estimate starting parameters for ARMA and trend. All parameters except for variances will be set to zeros.\n",
      "  warn('Too few observations to estimate starting parameters%s.'\n",
      "/databricks/python/lib/python3.9/site-packages/statsmodels/tsa/statespace/sarimax.py:866: UserWarning: Too few observations to estimate starting parameters for seasonal ARMA. All parameters except for variances will be set to zeros.\n",
      "  warn('Too few observations to estimate starting parameters%s.'\n",
      "/databricks/python/lib/python3.9/site-packages/statsmodels/tsa/statespace/mlemodel.py:1234: RuntimeWarning: invalid value encountered in true_divide\n",
      "  np.inner(score_obs, score_obs) /\n"
     ]
    },
    {
     "name": "stdout",
     "output_type": "stream",
     "text": [
      "\n",
      " Validation RMSE Comparison:\n",
      "                         RMSE\n",
      "Random Forest       79.070812\n",
      "Linear Regression   95.897447\n",
      "Gradient Boosting  101.888456\n",
      "SARIMAX            159.108977\n",
      "\n",
      " Final Forecast (Validation Set):\n"
     ]
    },
    {
     "data": {
      "text/html": [
       "<style scoped>\n",
       "  .table-result-container {\n",
       "    max-height: 300px;\n",
       "    overflow: auto;\n",
       "  }\n",
       "  table, th, td {\n",
       "    border: 1px solid black;\n",
       "    border-collapse: collapse;\n",
       "  }\n",
       "  th, td {\n",
       "    padding: 5px;\n",
       "  }\n",
       "  th {\n",
       "    text-align: left;\n",
       "  }\n",
       "</style><div class='table-result-container'><table class='table-result'><thead style='background-color: white'><tr><th>StockCode</th><th>month</th><th>total_quantity</th><th>predicted_LR</th><th>predicted_RF</th><th>predicted_GB</th><th>predicted_SARIMAX</th></tr></thead><tbody><tr><td>10135</td><td>2024-07-01T00:00:00.000+0000</td><td>177.0</td><td>183.53151625594995</td><td>257.56</td><td>325.0227764766096</td><td>35.0</td></tr><tr><td>10135</td><td>2024-08-01T00:00:00.000+0000</td><td>151.0</td><td>114.77666426518124</td><td>81.32</td><td>67.9253201050212</td><td>56.0</td></tr><tr><td>10135</td><td>2024-09-01T00:00:00.000+0000</td><td>70.0</td><td>94.20955799706707</td><td>76.57</td><td>59.72889779492801</td><td>26.999999999999996</td></tr><tr><td>10135</td><td>2024-10-01T00:00:00.000+0000</td><td>68.0</td><td>116.83828828102338</td><td>81.32</td><td>67.9253201050212</td><td>66.0</td></tr><tr><td>10135</td><td>2024-11-01T00:00:00.000+0000</td><td>181.0</td><td>157.54040685189557</td><td>185.81</td><td>229.35836421472166</td><td>307.0</td></tr><tr><td>10135</td><td>2024-12-01T00:00:00.000+0000</td><td>69.0</td><td>293.27995289765147</td><td>230.01</td><td>245.15722462458342</td><td>393.0</td></tr></tbody></table></div>"
      ]
     },
     "metadata": {
      "application/vnd.databricks.v1+output": {
       "addedWidgets": {},
       "aggData": [],
       "aggError": "",
       "aggOverflow": false,
       "aggSchema": [],
       "aggSeriesLimitReached": false,
       "aggType": "",
       "arguments": {},
       "columnCustomDisplayInfos": {},
       "data": [
        [
         "10135",
         "2024-07-01T00:00:00.000+0000",
         177,
         183.53151625594995,
         257.56,
         325.0227764766096,
         35
        ],
        [
         "10135",
         "2024-08-01T00:00:00.000+0000",
         151,
         114.77666426518124,
         81.32,
         67.9253201050212,
         56
        ],
        [
         "10135",
         "2024-09-01T00:00:00.000+0000",
         70,
         94.20955799706707,
         76.57,
         59.72889779492801,
         26.999999999999996
        ],
        [
         "10135",
         "2024-10-01T00:00:00.000+0000",
         68,
         116.83828828102338,
         81.32,
         67.9253201050212,
         66
        ],
        [
         "10135",
         "2024-11-01T00:00:00.000+0000",
         181,
         157.54040685189557,
         185.81,
         229.35836421472166,
         307
        ],
        [
         "10135",
         "2024-12-01T00:00:00.000+0000",
         69,
         293.27995289765147,
         230.01,
         245.15722462458342,
         393
        ]
       ],
       "datasetInfos": [],
       "dbfsResultPath": null,
       "isJsonSchema": true,
       "metadata": {},
       "overflow": false,
       "plotOptions": {
        "customPlotOptions": {},
        "displayType": "table",
        "pivotAggregation": null,
        "pivotColumns": null,
        "xColumns": null,
        "yColumns": null
       },
       "removedWidgets": [],
       "schema": [
        {
         "metadata": "{}",
         "name": "StockCode",
         "type": "\"string\""
        },
        {
         "metadata": "{}",
         "name": "month",
         "type": "\"timestamp\""
        },
        {
         "metadata": "{}",
         "name": "total_quantity",
         "type": "\"double\""
        },
        {
         "metadata": "{}",
         "name": "predicted_LR",
         "type": "\"double\""
        },
        {
         "metadata": "{}",
         "name": "predicted_RF",
         "type": "\"double\""
        },
        {
         "metadata": "{}",
         "name": "predicted_GB",
         "type": "\"double\""
        },
        {
         "metadata": "{}",
         "name": "predicted_SARIMAX",
         "type": "\"double\""
        }
       ],
       "type": "table"
      }
     },
     "output_type": "display_data"
    },
    {
     "name": "stdout",
     "output_type": "stream",
     "text": [
      "\n",
      " Final Forecast (Test Set):\n"
     ]
    },
    {
     "data": {
      "text/html": [
       "<style scoped>\n",
       "  .table-result-container {\n",
       "    max-height: 300px;\n",
       "    overflow: auto;\n",
       "  }\n",
       "  table, th, td {\n",
       "    border: 1px solid black;\n",
       "    border-collapse: collapse;\n",
       "  }\n",
       "  th, td {\n",
       "    padding: 5px;\n",
       "  }\n",
       "  th {\n",
       "    text-align: left;\n",
       "  }\n",
       "</style><div class='table-result-container'><table class='table-result'><thead style='background-color: white'><tr><th>StockCode</th><th>month</th><th>predicted_LR</th><th>predicted_RF</th><th>predicted_GB</th><th>predicted_SARIMAX</th></tr></thead><tbody><tr><td>10135</td><td>2025-01-01T00:00:00.000+0000</td><td>459.99787773671176</td><td>228.97</td><td>244.6165738039354</td><td>595.0</td></tr><tr><td>10135</td><td>2025-02-01T00:00:00.000+0000</td><td>588.2413517807257</td><td>218.51</td><td>222.06269476211256</td><td>254.0</td></tr><tr><td>10135</td><td>2025-03-01T00:00:00.000+0000</td><td>608.9785792853827</td><td>212.43</td><td>222.52622923948397</td><td>100.0</td></tr><tr><td>10135</td><td>2025-04-01T00:00:00.000+0000</td><td>533.1979237017906</td><td>273.76</td><td>336.9330671385778</td><td>12.0</td></tr><tr><td>10135</td><td>2025-05-01T00:00:00.000+0000</td><td>553.538932106824</td><td>215.08</td><td>231.14352390988338</td><td>-5.0</td></tr><tr><td>10135</td><td>2025-06-01T00:00:00.000+0000</td><td>411.801672311257</td><td>221.05</td><td>231.6841747305314</td><td>37.0</td></tr></tbody></table></div>"
      ]
     },
     "metadata": {
      "application/vnd.databricks.v1+output": {
       "addedWidgets": {},
       "aggData": [],
       "aggError": "",
       "aggOverflow": false,
       "aggSchema": [],
       "aggSeriesLimitReached": false,
       "aggType": "",
       "arguments": {},
       "columnCustomDisplayInfos": {},
       "data": [
        [
         "10135",
         "2025-01-01T00:00:00.000+0000",
         459.99787773671176,
         228.97,
         244.6165738039354,
         595
        ],
        [
         "10135",
         "2025-02-01T00:00:00.000+0000",
         588.2413517807257,
         218.51,
         222.06269476211256,
         254
        ],
        [
         "10135",
         "2025-03-01T00:00:00.000+0000",
         608.9785792853827,
         212.43,
         222.52622923948397,
         100
        ],
        [
         "10135",
         "2025-04-01T00:00:00.000+0000",
         533.1979237017906,
         273.76,
         336.9330671385778,
         12
        ],
        [
         "10135",
         "2025-05-01T00:00:00.000+0000",
         553.538932106824,
         215.08,
         231.14352390988338,
         -5
        ],
        [
         "10135",
         "2025-06-01T00:00:00.000+0000",
         411.801672311257,
         221.05,
         231.6841747305314,
         37
        ]
       ],
       "datasetInfos": [],
       "dbfsResultPath": null,
       "isJsonSchema": true,
       "metadata": {},
       "overflow": false,
       "plotOptions": {
        "customPlotOptions": {},
        "displayType": "table",
        "pivotAggregation": null,
        "pivotColumns": null,
        "xColumns": null,
        "yColumns": null
       },
       "removedWidgets": [],
       "schema": [
        {
         "metadata": "{}",
         "name": "StockCode",
         "type": "\"string\""
        },
        {
         "metadata": "{}",
         "name": "month",
         "type": "\"timestamp\""
        },
        {
         "metadata": "{}",
         "name": "predicted_LR",
         "type": "\"double\""
        },
        {
         "metadata": "{}",
         "name": "predicted_RF",
         "type": "\"double\""
        },
        {
         "metadata": "{}",
         "name": "predicted_GB",
         "type": "\"double\""
        },
        {
         "metadata": "{}",
         "name": "predicted_SARIMAX",
         "type": "\"double\""
        }
       ],
       "type": "table"
      }
     },
     "output_type": "display_data"
    }
   ],
   "source": [
    "# Define Features and Target \n",
    "features_LR = ['month_sin', 'rolling_avg_6m', 'rolling_std_6m']\n",
    "target = 'total_quantity'\n",
    "test_stock_code = '10135'  # Chosen product\n",
    "\n",
    "# Filter Data and Convert to Pandas\n",
    "train_product = df_train.filter(col(\"StockCode\") == test_stock_code).dropna().toPandas()\n",
    "val_product = df_val.filter(col(\"StockCode\") == test_stock_code).dropna().toPandas()\n",
    "test_product = df_test.filter(col(\"StockCode\") == test_stock_code).toPandas()\n",
    "\n",
    "# Proceed if Training and Validation Data Exist\n",
    "if not train_product.empty and not val_product.empty:\n",
    "    rmse_scores = {}\n",
    "\n",
    "    # LINEAR REGRESSION\n",
    "    model_lr = LinearRegression()\n",
    "    model_lr.fit(train_product[features_LR], train_product[target])\n",
    "    val_product['predicted_LR'] = model_lr.predict(val_product[features_LR])\n",
    "    test_product['predicted_LR'] = model_lr.predict(test_product[features_LR])\n",
    "    rmse_scores['Linear Regression'] = np.sqrt(mean_squared_error(val_product[target], val_product['predicted_LR']))\n",
    "\n",
    "    # RANDOM FOREST\n",
    "    model_rf = RandomForestRegressor(n_estimators=100, random_state=42)\n",
    "    model_rf.fit(train_product[features_LR], train_product[target])\n",
    "    val_product['predicted_RF'] = model_rf.predict(val_product[features_LR])\n",
    "    test_product['predicted_RF'] = model_rf.predict(test_product[features_LR])\n",
    "    rmse_scores['Random Forest'] = np.sqrt(mean_squared_error(val_product[target], val_product['predicted_RF']))\n",
    "\n",
    "    # GRADIENT BOOSTING\n",
    "    model_gb = GradientBoostingRegressor(n_estimators=100, random_state=42)\n",
    "    model_gb.fit(train_product[features_LR], train_product[target])\n",
    "    val_product['predicted_GB'] = model_gb.predict(val_product[features_LR])\n",
    "    test_product['predicted_GB'] = model_gb.predict(test_product[features_LR])\n",
    "    rmse_scores['Gradient Boosting'] = np.sqrt(mean_squared_error(val_product[target], val_product['predicted_GB']))\n",
    "\n",
    "    # SARIMAX\n",
    "    try:\n",
    "        train_product['month'] = pd.to_datetime(train_product['month'])\n",
    "        val_product['month'] = pd.to_datetime(val_product['month'])\n",
    "        test_product['month'] = pd.to_datetime(test_product['month'])\n",
    "\n",
    "        train_ts = train_product.set_index('month')[target]\n",
    "        sarimax_model = SARIMAX(train_ts, order=(1, 1, 1), seasonal_order=(1, 1, 1, 12))\n",
    "        sarimax_fit = sarimax_model.fit(disp=False)\n",
    "\n",
    "        total_steps = len(val_product) + len(test_product)\n",
    "        sarimax_preds_all = sarimax_fit.forecast(steps=total_steps)\n",
    "\n",
    "        val_product['predicted_SARIMAX'] = sarimax_preds_all[:len(val_product)].values\n",
    "        test_product['predicted_SARIMAX'] = sarimax_preds_all[len(val_product):].values\n",
    "\n",
    "        rmse_scores['SARIMAX'] = np.sqrt(mean_squared_error(val_product[target], val_product['predicted_SARIMAX']))\n",
    "    except Exception as e:\n",
    "        print(f\" SARIMAX failed: {e}\")\n",
    "        val_product['predicted_SARIMAX'] = np.nan\n",
    "        test_product['predicted_SARIMAX'] = np.nan\n",
    "\n",
    "    # Display RMSE Scores\n",
    "    print(\"\\n Validation RMSE Comparison:\")\n",
    "    rmse_df = pd.DataFrame.from_dict(rmse_scores, orient='index', columns=['RMSE']).sort_values('RMSE')\n",
    "    print(rmse_df)\n",
    "\n",
    "    # Final Forecast Tables\n",
    "    print(\"\\n Final Forecast (Validation Set):\")\n",
    "    display(val_product[['StockCode', 'month', 'total_quantity',\n",
    "                         'predicted_LR', 'predicted_RF', 'predicted_GB', 'predicted_SARIMAX']])\n",
    "\n",
    "    print(\"\\n Final Forecast (Test Set):\")\n",
    "    display(test_product[['StockCode', 'month',\n",
    "                          'predicted_LR', 'predicted_RF', 'predicted_GB', 'predicted_SARIMAX']])  # SARIMAX not applied to test\n",
    "\n",
    "else:\n",
    "    print(f\" No data found for StockCode {test_stock_code}\")"
   ]
  },
  {
   "cell_type": "markdown",
   "metadata": {
    "application/vnd.databricks.v1+cell": {
     "cellMetadata": {
      "byteLimit": 2048000,
      "rowLimit": 10000
     },
     "inputWidgets": {},
     "nuid": "8ca738f9-2167-43c9-880b-93c7d2090e7e",
     "showTitle": false,
     "tableResultSettingsMap": {},
     "title": ""
    }
   },
   "source": [
    "Because of the lowest RMSE, we are going to choose Random Forest as our model."
   ]
  },
  {
   "cell_type": "markdown",
   "metadata": {
    "application/vnd.databricks.v1+cell": {
     "cellMetadata": {
      "byteLimit": 2048000,
      "rowLimit": 10000
     },
     "inputWidgets": {},
     "nuid": "d67c23db-44d6-422d-a45f-ba40651b72c7",
     "showTitle": false,
     "tableResultSettingsMap": {},
     "title": ""
    }
   },
   "source": [
    "## 3.2. Hypertuning Random Forest"
   ]
  },
  {
   "cell_type": "markdown",
   "metadata": {
    "application/vnd.databricks.v1+cell": {
     "cellMetadata": {
      "byteLimit": 2048000,
      "rowLimit": 10000
     },
     "inputWidgets": {},
     "nuid": "ab938cd2-2af9-40ff-a32e-f1f0412417f2",
     "showTitle": false,
     "tableResultSettingsMap": {},
     "title": ""
    }
   },
   "source": [
    "To build better and more efficient model, we are going to do hypertuning for our Random Forest model."
   ]
  },
  {
   "cell_type": "code",
   "execution_count": 0,
   "metadata": {
    "application/vnd.databricks.v1+cell": {
     "cellMetadata": {
      "byteLimit": 2048000,
      "rowLimit": 10000
     },
     "inputWidgets": {},
     "nuid": "95410701-4a53-4b10-b789-3d080b5b4977",
     "showTitle": false,
     "tableResultSettingsMap": {},
     "title": ""
    }
   },
   "outputs": [
    {
     "name": "stdout",
     "output_type": "stream",
     "text": [
      "Fitting 3 folds for each of 20 candidates, totalling 60 fits\n",
      "\n",
      " Best Parameters: {'n_estimators': 300, 'min_samples_split': 10, 'min_samples_leaf': 2, 'max_features': 'sqrt', 'max_depth': 20}\n",
      " Tuned Random Forest RMSE (Validation): 70.76\n"
     ]
    },
    {
     "data": {
      "text/html": [
       "<style scoped>\n",
       "  .table-result-container {\n",
       "    max-height: 300px;\n",
       "    overflow: auto;\n",
       "  }\n",
       "  table, th, td {\n",
       "    border: 1px solid black;\n",
       "    border-collapse: collapse;\n",
       "  }\n",
       "  th, td {\n",
       "    padding: 5px;\n",
       "  }\n",
       "  th {\n",
       "    text-align: left;\n",
       "  }\n",
       "</style><div class='table-result-container'><table class='table-result'><thead style='background-color: white'><tr><th>StockCode</th><th>month</th><th>total_quantity</th><th>predicted_RF_Tuned</th></tr></thead><tbody><tr><td>10135</td><td>2024-07-01</td><td>177.0</td><td>172.1565622433122</td></tr><tr><td>10135</td><td>2024-08-01</td><td>151.0</td><td>165.20587705812702</td></tr><tr><td>10135</td><td>2024-09-01</td><td>70.0</td><td>165.20587705812702</td></tr><tr><td>10135</td><td>2024-10-01</td><td>68.0</td><td>165.20587705812702</td></tr><tr><td>10135</td><td>2024-11-01</td><td>181.0</td><td>171.45461779886776</td></tr><tr><td>10135</td><td>2024-12-01</td><td>69.0</td><td>174.90716770266766</td></tr></tbody></table></div>"
      ]
     },
     "metadata": {
      "application/vnd.databricks.v1+output": {
       "addedWidgets": {},
       "aggData": [],
       "aggError": "",
       "aggOverflow": false,
       "aggSchema": [],
       "aggSeriesLimitReached": false,
       "aggType": "",
       "arguments": {},
       "columnCustomDisplayInfos": {},
       "data": [
        [
         "10135",
         "2024-07-01",
         177,
         172.1565622433122
        ],
        [
         "10135",
         "2024-08-01",
         151,
         165.20587705812702
        ],
        [
         "10135",
         "2024-09-01",
         70,
         165.20587705812702
        ],
        [
         "10135",
         "2024-10-01",
         68,
         165.20587705812702
        ],
        [
         "10135",
         "2024-11-01",
         181,
         171.45461779886776
        ],
        [
         "10135",
         "2024-12-01",
         69,
         174.90716770266766
        ]
       ],
       "datasetInfos": [],
       "dbfsResultPath": null,
       "isJsonSchema": true,
       "metadata": {},
       "overflow": false,
       "plotOptions": {
        "customPlotOptions": {},
        "displayType": "table",
        "pivotAggregation": null,
        "pivotColumns": null,
        "xColumns": null,
        "yColumns": null
       },
       "removedWidgets": [],
       "schema": [
        {
         "metadata": "{}",
         "name": "StockCode",
         "type": "\"string\""
        },
        {
         "metadata": "{}",
         "name": "month",
         "type": "\"date\""
        },
        {
         "metadata": "{}",
         "name": "total_quantity",
         "type": "\"double\""
        },
        {
         "metadata": "{}",
         "name": "predicted_RF_Tuned",
         "type": "\"double\""
        }
       ],
       "type": "table"
      }
     },
     "output_type": "display_data"
    }
   ],
   "source": [
    "# Features and target\n",
    "features_LR = ['month_sin', 'rolling_avg_6m', 'rolling_std_6m']\n",
    "target = 'total_quantity'\n",
    "test_stock_code = '10135'\n",
    "\n",
    "# Get training/validation data\n",
    "train_product = df_train.filter(col(\"StockCode\") == test_stock_code).dropna().toPandas()\n",
    "val_product = df_val.filter(col(\"StockCode\") == test_stock_code).dropna().toPandas()\n",
    "\n",
    "if not train_product.empty and not val_product.empty:\n",
    "    X_train = train_product[features_LR]\n",
    "    y_train = train_product[target]\n",
    "    X_val = val_product[features_LR]\n",
    "    y_val = val_product[target]\n",
    "\n",
    "    # Define hyperparameter grid\n",
    "    param_dist = {\n",
    "        'n_estimators': [50, 100, 200, 300],\n",
    "        'max_depth': [5, 10, 20, None],\n",
    "        'min_samples_split': [2, 5, 10],\n",
    "        'min_samples_leaf': [1, 2, 4],\n",
    "        'max_features': ['auto', 'sqrt', 'log2']\n",
    "    }\n",
    "\n",
    "    # Set up search\n",
    "    rf = RandomForestRegressor(random_state=42)\n",
    "    search = RandomizedSearchCV(rf, param_distributions=param_dist,\n",
    "                                n_iter=20, cv=3, scoring='neg_root_mean_squared_error',\n",
    "                                random_state=42, n_jobs=-1, verbose=1)\n",
    "\n",
    "    # Fit\n",
    "    search.fit(X_train, y_train)\n",
    "\n",
    "    # Best model\n",
    "    best_rf = search.best_estimator_\n",
    "    print(f\"\\n Best Parameters: {search.best_params_}\")\n",
    "\n",
    "    # Predict and evaluate\n",
    "    val_product['predicted_RF_Tuned'] = best_rf.predict(X_val)\n",
    "    rmse_tuned = np.sqrt(mean_squared_error(y_val, val_product['predicted_RF_Tuned']))\n",
    "    print(f\" Tuned Random Forest RMSE (Validation): {rmse_tuned:.2f}\")\n",
    "\n",
    "    # Output forecast\n",
    "    display(val_product[['StockCode', 'month', 'total_quantity', 'predicted_RF_Tuned']])\n",
    "\n",
    "else:\n",
    "    print(f\" No data found for StockCode {test_stock_code}\")"
   ]
  },
  {
   "cell_type": "markdown",
   "metadata": {
    "application/vnd.databricks.v1+cell": {
     "cellMetadata": {
      "byteLimit": 2048000,
      "rowLimit": 10000
     },
     "inputWidgets": {},
     "nuid": "3c0a1c6d-3a83-4161-8c11-9dc535690837",
     "showTitle": false,
     "tableResultSettingsMap": {},
     "title": ""
    }
   },
   "source": [
    "By doing hypertuning, **we improved the RMSE score from 79.07 to 70.76**."
   ]
  }
 ],
 "metadata": {
  "application/vnd.databricks.v1+notebook": {
   "computePreferences": null,
   "dashboards": [],
   "environmentMetadata": {
    "base_environment": "",
    "environment_version": "1"
   },
   "inputWidgetPreferences": null,
   "language": "python",
   "notebookMetadata": {
    "pythonIndentUnit": 4
   },
   "notebookName": "Sales Forecasting",
   "widgets": {}
  },
  "language_info": {
   "name": "python"
  }
 },
 "nbformat": 4,
 "nbformat_minor": 0
}
