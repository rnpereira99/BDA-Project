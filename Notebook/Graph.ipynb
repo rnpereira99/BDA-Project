{
 "cells": [
  {
   "cell_type": "markdown",
   "metadata": {
    "application/vnd.databricks.v1+cell": {
     "cellMetadata": {
      "byteLimit": 2048000,
      "rowLimit": 10000
     },
     "inputWidgets": {},
     "nuid": "0d5bc9ec-5e8f-41c9-ac53-509cb68039a4",
     "showTitle": false,
     "tableResultSettingsMap": {},
     "title": ""
    }
   },
   "source": [
    "%md\n",
    "<div class=\"alert alert-block alert-info\">\n",
    "<center> <h1> Customer Segmentation and Sales Forecast</h1> </center> <br>\n",
    "<center> Big Data Analytics 2025</center><br>\n",
    "<center> NOVA IMS MDSAA</center>"
   ]
  },
  {
   "cell_type": "markdown",
   "metadata": {
    "application/vnd.databricks.v1+cell": {
     "cellMetadata": {
      "byteLimit": 2048000,
      "rowLimit": 10000
     },
     "inputWidgets": {},
     "nuid": "a93f1111-1f36-4008-b0be-a1367c9d473f",
     "showTitle": false,
     "tableResultSettingsMap": {},
     "title": ""
    }
   },
   "source": [
    "### [NOTE]\n",
    "In this project, we are going to work on 3 notebooks:\n",
    "- 1. **Data Preprocessing**: For EDA, Data Preprocessing, Creating DataFrames, and Feature Engineering\n",
    "- 2. **Clustering**: For clustering \n",
    "- 3. **Sales Forecasting**: For Sales Forecast. <br>\n",
    "##### **This notebook is 2. Clustering.**"
   ]
  },
  {
   "cell_type": "markdown",
   "metadata": {
    "application/vnd.databricks.v1+cell": {
     "cellMetadata": {
      "byteLimit": 2048000,
      "rowLimit": 10000
     },
     "inputWidgets": {},
     "nuid": "bc022840-4b2e-45f2-9b9e-2ca131c87494",
     "showTitle": false,
     "tableResultSettingsMap": {},
     "title": ""
    }
   },
   "source": [
    "%md\n",
    "# Group 77\n",
    "\n",
    "|   | Student Name          |  Student ID | \n",
    "|---|-----------------------|    ---      |\n",
    "| 1 | Hassan Bhatti       |  20241023 |\n",
    "| 2 | Moeko Mitani          |   20240670  | \n",
    "| 3 | Oumayma Ben Hfaiedh   |   20240699  | \n",
    "| 4 | Ricardo Pereira      |  20240745  | "
   ]
  },
  {
   "cell_type": "markdown",
   "metadata": {
    "application/vnd.databricks.v1+cell": {
     "cellMetadata": {
      "byteLimit": 2048000,
      "rowLimit": 10000
     },
     "inputWidgets": {},
     "nuid": "47cf3c31-e694-4c8d-ae2d-9054e54f955e",
     "showTitle": false,
     "tableResultSettingsMap": {},
     "title": ""
    }
   },
   "source": [
    "# 1. Data Integration "
   ]
  },
  {
   "cell_type": "markdown",
   "metadata": {
    "application/vnd.databricks.v1+cell": {
     "cellMetadata": {
      "byteLimit": 2048000,
      "rowLimit": 10000
     },
     "inputWidgets": {},
     "nuid": "4c57cda0-b780-450f-9e44-7b687fd156a2",
     "showTitle": false,
     "tableResultSettingsMap": {},
     "title": ""
    }
   },
   "source": [
    "## Import Libraries"
   ]
  },
  {
   "cell_type": "code",
   "execution_count": 0,
   "metadata": {
    "application/vnd.databricks.v1+cell": {
     "cellMetadata": {
      "byteLimit": 2048000,
      "rowLimit": 10000
     },
     "inputWidgets": {},
     "nuid": "29660de8-236f-4ca2-8e67-6c3d48c8108f",
     "showTitle": false,
     "tableResultSettingsMap": {},
     "title": ""
    }
   },
   "outputs": [
    {
     "output_type": "display_data",
     "data": {
      "application/vnd.databricks.v1+bamboolib_hint": "{\"pd.DataFrames\": [], \"version\": \"0.0.1\"}",
      "text/plain": []
     },
     "metadata": {},
     "output_type": "display_data"
    }
   ],
   "source": [
    "# ─────────────────────────────────────────────\n",
    "# Spark Core\n",
    "# ─────────────────────────────────────────────\n",
    "from pyspark.sql import SparkSession\n",
    "from pyspark.sql import functions as F\n",
    "from pyspark.sql.functions import (\n",
    "    col, lit, to_timestamp, to_date, year, month, dayofmonth,\n",
    "    count, countDistinct, sum, avg, min, max,\n",
    "    round, when, datediff, current_date, concat_ws,\n",
    "    monotonically_increasing_id\n",
    ")\n",
    "from pyspark.sql.functions import max as spark_max\n",
    "\n",
    "# ─────────────────────────────────────────────\n",
    "# Spark MLlib\n",
    "# ─────────────────────────────────────────────\n",
    "from pyspark.ml.feature import (\n",
    "    VectorAssembler, PCA, StringIndexer, StandardScaler,\n",
    "    MinMaxScaler\n",
    ")\n",
    "from pyspark.ml.clustering import KMeans\n",
    "from pyspark.ml.stat import Correlation\n",
    "from pyspark.ml.evaluation import ClusteringEvaluator\n",
    "from pyspark.ml import Pipeline\n",
    "\n",
    "# ─────────────────────────────────────────────\n",
    "# Python Built-ins and Data Science Libraries\n",
    "# ─────────────────────────────────────────────\n",
    "import pandas as pd\n",
    "import numpy as np\n",
    "import seaborn as sns\n",
    "import matplotlib.pyplot as plt\n",
    "import matplotlib.cm as cm\n",
    "from matplotlib.colors import ListedColormap\n",
    "from sklearn.metrics import (\n",
    "    silhouette_samples, silhouette_score,\n",
    "    confusion_matrix\n",
    ")\n",
    "\n",
    "# ─────────────────────────────────────────────\n",
    "# Utilities\n",
    "# ─────────────────────────────────────────────\n",
    "from itertools import combinations\n"
   ]
  },
  {
   "cell_type": "code",
   "execution_count": 0,
   "metadata": {
    "application/vnd.databricks.v1+cell": {
     "cellMetadata": {
      "byteLimit": 2048000,
      "rowLimit": 10000
     },
     "inputWidgets": {},
     "nuid": "7f7fb1dd-29a1-4442-9386-0aa57c2dcf52",
     "showTitle": false,
     "tableResultSettingsMap": {},
     "title": ""
    }
   },
   "outputs": [],
   "source": [
    "# Start Spark session\n",
    "spark = SparkSession.builder.appName(\"Project_Group77\").getOrCreate()"
   ]
  },
  {
   "cell_type": "markdown",
   "metadata": {
    "application/vnd.databricks.v1+cell": {
     "cellMetadata": {
      "byteLimit": 2048000,
      "rowLimit": 10000
     },
     "inputWidgets": {},
     "nuid": "231a2419-750a-4ed3-9066-8cdc0db3f7d4",
     "showTitle": false,
     "tableResultSettingsMap": {},
     "title": ""
    }
   },
   "source": [
    "## Import CSV File (from previous Notebook: 1. Data Preprocessing)"
   ]
  },
  {
   "cell_type": "code",
   "execution_count": 0,
   "metadata": {
    "application/vnd.databricks.v1+cell": {
     "cellMetadata": {
      "byteLimit": 2048000,
      "rowLimit": 10000
     },
     "inputWidgets": {},
     "nuid": "16ace303-42cb-4f69-af36-af7dfd22dca9",
     "showTitle": false,
     "tableResultSettingsMap": {},
     "title": ""
    }
   },
   "outputs": [
    {
     "output_type": "display_data",
     "data": {
      "text/html": [
       "<style scoped>\n",
       "  .table-result-container {\n",
       "    max-height: 300px;\n",
       "    overflow: auto;\n",
       "  }\n",
       "  table, th, td {\n",
       "    border: 1px solid black;\n",
       "    border-collapse: collapse;\n",
       "  }\n",
       "  th, td {\n",
       "    padding: 5px;\n",
       "  }\n",
       "  th {\n",
       "    text-align: left;\n",
       "  }\n",
       "</style><div class='table-result-container'><table class='table-result'><thead style='background-color: white'><tr><th>Customer ID</th><th>num_invoices</th><th>num_products</th><th>total_quantity</th><th>total_price</th><th>avg_unit_price</th><th>first_purchase_date</th><th>last_purchase_date</th><th>purchase_span_days</th><th>avg_quantity_per_invoice</th><th>recency_days</th><th>2022-12</th><th>2023-1</th><th>2023-10</th><th>2023-11</th><th>2023-12</th><th>2023-2</th><th>2023-3</th><th>2023-4</th><th>2023-5</th><th>2023-6</th><th>2023-7</th><th>2023-8</th><th>2023-9</th><th>2024-1</th><th>2024-10</th><th>2024-11</th><th>2024-12</th><th>2024-2</th><th>2024-3</th><th>2024-4</th><th>2024-5</th><th>2024-6</th><th>2024-7</th><th>2024-8</th><th>2024-9</th><th>prediction</th></tr></thead><tbody><tr><td>13285</td><td>6</td><td>182</td><td>2457</td><td>3364.59</td><td>2.33</td><td>2023-03-25</td><td>2024-11-16</td><td>602</td><td>409.5</td><td>23</td><td>0</td><td>0</td><td>0</td><td>0</td><td>0</td><td>0</td><td>21</td><td>23</td><td>0</td><td>0</td><td>0</td><td>0</td><td>0</td><td>0</td><td>0</td><td>50</td><td>0</td><td>52</td><td>0</td><td>30</td><td>0</td><td>0</td><td>55</td><td>0</td><td>0</td><td>1</td></tr><tr><td>14570</td><td>3</td><td>64</td><td>431</td><td>613.75</td><td>3.29</td><td>2023-09-22</td><td>2024-03-04</td><td>164</td><td>143.67</td><td>280</td><td>0</td><td>0</td><td>0</td><td>0</td><td>0</td><td>0</td><td>0</td><td>0</td><td>0</td><td>0</td><td>0</td><td>0</td><td>39</td><td>0</td><td>0</td><td>0</td><td>0</td><td>0</td><td>29</td><td>0</td><td>0</td><td>0</td><td>0</td><td>0</td><td>0</td><td>2</td></tr><tr><td>15846</td><td>1</td><td>27</td><td>79</td><td>107.01</td><td>1.82</td><td>2023-11-19</td><td>2023-11-19</td><td>0</td><td>79.0</td><td>386</td><td>0</td><td>0</td><td>0</td><td>29</td><td>0</td><td>0</td><td>0</td><td>0</td><td>0</td><td>0</td><td>0</td><td>0</td><td>0</td><td>0</td><td>0</td><td>0</td><td>0</td><td>0</td><td>0</td><td>0</td><td>0</td><td>0</td><td>0</td><td>0</td><td>0</td><td>2</td></tr><tr><td>25462</td><td>1</td><td>158</td><td>278</td><td>1281.03</td><td>6.11</td><td>2024-05-24</td><td>2024-05-24</td><td>0</td><td>278.0</td><td>199</td><td>0</td><td>0</td><td>0</td><td>0</td><td>0</td><td>0</td><td>0</td><td>0</td><td>0</td><td>0</td><td>0</td><td>0</td><td>0</td><td>0</td><td>0</td><td>0</td><td>0</td><td>0</td><td>0</td><td>0</td><td>158</td><td>0</td><td>0</td><td>0</td><td>0</td><td>1</td></tr><tr><td>17420</td><td>8</td><td>43</td><td>444</td><td>943.68</td><td>3.41</td><td>2023-11-03</td><td>2024-10-20</td><td>352</td><td>55.5</td><td>50</td><td>0</td><td>0</td><td>0</td><td>22</td><td>7</td><td>0</td><td>0</td><td>0</td><td>0</td><td>0</td><td>0</td><td>0</td><td>0</td><td>0</td><td>9</td><td>0</td><td>0</td><td>0</td><td>0</td><td>0</td><td>0</td><td>14</td><td>0</td><td>0</td><td>0</td><td>1</td></tr><tr><td>24171</td><td>1</td><td>13</td><td>22</td><td>43.25</td><td>2.49</td><td>2024-03-18</td><td>2024-03-18</td><td>0</td><td>22.0</td><td>266</td><td>0</td><td>0</td><td>0</td><td>0</td><td>0</td><td>0</td><td>0</td><td>0</td><td>0</td><td>0</td><td>0</td><td>0</td><td>0</td><td>0</td><td>0</td><td>0</td><td>0</td><td>0</td><td>13</td><td>0</td><td>0</td><td>0</td><td>0</td><td>0</td><td>0</td><td>2</td></tr><tr><td>16386</td><td>3</td><td>127</td><td>700</td><td>1068.16</td><td>2.05</td><td>2023-11-17</td><td>2024-11-11</td><td>360</td><td>233.33</td><td>28</td><td>0</td><td>0</td><td>0</td><td>58</td><td>0</td><td>0</td><td>0</td><td>0</td><td>0</td><td>0</td><td>0</td><td>0</td><td>0</td><td>0</td><td>0</td><td>77</td><td>0</td><td>0</td><td>4</td><td>0</td><td>0</td><td>0</td><td>0</td><td>0</td><td>0</td><td>1</td></tr><tr><td>18024</td><td>3</td><td>21</td><td>148</td><td>236.78</td><td>2.66</td><td>2024-07-10</td><td>2024-07-10</td><td>0</td><td>49.33</td><td>152</td><td>0</td><td>0</td><td>0</td><td>0</td><td>0</td><td>0</td><td>0</td><td>0</td><td>0</td><td>0</td><td>0</td><td>0</td><td>0</td><td>0</td><td>0</td><td>0</td><td>0</td><td>0</td><td>0</td><td>0</td><td>0</td><td>0</td><td>22</td><td>0</td><td>0</td><td>1</td></tr><tr><td>15727</td><td>15</td><td>426</td><td>5908</td><td>9371.71</td><td>3.57</td><td>2023-01-24</td><td>2024-11-23</td><td>669</td><td>393.87</td><td>16</td><td>0</td><td>99</td><td>0</td><td>50</td><td>66</td><td>0</td><td>0</td><td>0</td><td>87</td><td>13</td><td>116</td><td>19</td><td>0</td><td>32</td><td>0</td><td>39</td><td>0</td><td>0</td><td>0</td><td>46</td><td>14</td><td>0</td><td>30</td><td>74</td><td>0</td><td>1</td></tr><tr><td>16339</td><td>1</td><td>17</td><td>21</td><td>94.05</td><td>4.96</td><td>2024-02-28</td><td>2024-02-28</td><td>0</td><td>21.0</td><td>285</td><td>0</td><td>0</td><td>0</td><td>0</td><td>0</td><td>0</td><td>0</td><td>0</td><td>0</td><td>0</td><td>0</td><td>0</td><td>0</td><td>0</td><td>0</td><td>0</td><td>0</td><td>18</td><td>0</td><td>0</td><td>0</td><td>0</td><td>0</td><td>0</td><td>0</td><td>2</td></tr></tbody></table></div>"
      ]
     },
     "metadata": {
      "application/vnd.databricks.v1+output": {
       "addedWidgets": {},
       "aggData": [],
       "aggError": "",
       "aggOverflow": false,
       "aggSchema": [],
       "aggSeriesLimitReached": false,
       "aggType": "",
       "arguments": {},
       "columnCustomDisplayInfos": {},
       "data": [
        [
         13285,
         6,
         182,
         2457,
         3364.59,
         2.33,
         "2023-03-25",
         "2024-11-16",
         602,
         409.5,
         23,
         0,
         0,
         0,
         0,
         0,
         0,
         21,
         23,
         0,
         0,
         0,
         0,
         0,
         0,
         0,
         50,
         0,
         52,
         0,
         30,
         0,
         0,
         55,
         0,
         0,
         1
        ],
        [
         14570,
         3,
         64,
         431,
         613.75,
         3.29,
         "2023-09-22",
         "2024-03-04",
         164,
         143.67,
         280,
         0,
         0,
         0,
         0,
         0,
         0,
         0,
         0,
         0,
         0,
         0,
         0,
         39,
         0,
         0,
         0,
         0,
         0,
         29,
         0,
         0,
         0,
         0,
         0,
         0,
         2
        ],
        [
         15846,
         1,
         27,
         79,
         107.01,
         1.82,
         "2023-11-19",
         "2023-11-19",
         0,
         79.0,
         386,
         0,
         0,
         0,
         29,
         0,
         0,
         0,
         0,
         0,
         0,
         0,
         0,
         0,
         0,
         0,
         0,
         0,
         0,
         0,
         0,
         0,
         0,
         0,
         0,
         0,
         2
        ],
        [
         25462,
         1,
         158,
         278,
         1281.03,
         6.11,
         "2024-05-24",
         "2024-05-24",
         0,
         278.0,
         199,
         0,
         0,
         0,
         0,
         0,
         0,
         0,
         0,
         0,
         0,
         0,
         0,
         0,
         0,
         0,
         0,
         0,
         0,
         0,
         0,
         158,
         0,
         0,
         0,
         0,
         1
        ],
        [
         17420,
         8,
         43,
         444,
         943.68,
         3.41,
         "2023-11-03",
         "2024-10-20",
         352,
         55.5,
         50,
         0,
         0,
         0,
         22,
         7,
         0,
         0,
         0,
         0,
         0,
         0,
         0,
         0,
         0,
         9,
         0,
         0,
         0,
         0,
         0,
         0,
         14,
         0,
         0,
         0,
         1
        ],
        [
         24171,
         1,
         13,
         22,
         43.25,
         2.49,
         "2024-03-18",
         "2024-03-18",
         0,
         22.0,
         266,
         0,
         0,
         0,
         0,
         0,
         0,
         0,
         0,
         0,
         0,
         0,
         0,
         0,
         0,
         0,
         0,
         0,
         0,
         13,
         0,
         0,
         0,
         0,
         0,
         0,
         2
        ],
        [
         16386,
         3,
         127,
         700,
         1068.16,
         2.05,
         "2023-11-17",
         "2024-11-11",
         360,
         233.33,
         28,
         0,
         0,
         0,
         58,
         0,
         0,
         0,
         0,
         0,
         0,
         0,
         0,
         0,
         0,
         0,
         77,
         0,
         0,
         4,
         0,
         0,
         0,
         0,
         0,
         0,
         1
        ],
        [
         18024,
         3,
         21,
         148,
         236.78,
         2.66,
         "2024-07-10",
         "2024-07-10",
         0,
         49.33,
         152,
         0,
         0,
         0,
         0,
         0,
         0,
         0,
         0,
         0,
         0,
         0,
         0,
         0,
         0,
         0,
         0,
         0,
         0,
         0,
         0,
         0,
         0,
         22,
         0,
         0,
         1
        ],
        [
         15727,
         15,
         426,
         5908,
         9371.71,
         3.57,
         "2023-01-24",
         "2024-11-23",
         669,
         393.87,
         16,
         0,
         99,
         0,
         50,
         66,
         0,
         0,
         0,
         87,
         13,
         116,
         19,
         0,
         32,
         0,
         39,
         0,
         0,
         0,
         46,
         14,
         0,
         30,
         74,
         0,
         1
        ],
        [
         16339,
         1,
         17,
         21,
         94.05,
         4.96,
         "2024-02-28",
         "2024-02-28",
         0,
         21.0,
         285,
         0,
         0,
         0,
         0,
         0,
         0,
         0,
         0,
         0,
         0,
         0,
         0,
         0,
         0,
         0,
         0,
         0,
         18,
         0,
         0,
         0,
         0,
         0,
         0,
         0,
         2
        ]
       ],
       "datasetInfos": [],
       "dbfsResultPath": null,
       "isJsonSchema": true,
       "metadata": {},
       "overflow": false,
       "plotOptions": {
        "customPlotOptions": {},
        "displayType": "table",
        "pivotAggregation": null,
        "pivotColumns": null,
        "xColumns": null,
        "yColumns": null
       },
       "removedWidgets": [],
       "schema": [
        {
         "metadata": "{}",
         "name": "Customer ID",
         "type": "\"integer\""
        },
        {
         "metadata": "{}",
         "name": "num_invoices",
         "type": "\"integer\""
        },
        {
         "metadata": "{}",
         "name": "num_products",
         "type": "\"integer\""
        },
        {
         "metadata": "{}",
         "name": "total_quantity",
         "type": "\"integer\""
        },
        {
         "metadata": "{}",
         "name": "total_price",
         "type": "\"double\""
        },
        {
         "metadata": "{}",
         "name": "avg_unit_price",
         "type": "\"double\""
        },
        {
         "metadata": "{\"__detected_date_formats\":\"yyyy-M-d\"}",
         "name": "first_purchase_date",
         "type": "\"date\""
        },
        {
         "metadata": "{\"__detected_date_formats\":\"yyyy-M-d\"}",
         "name": "last_purchase_date",
         "type": "\"date\""
        },
        {
         "metadata": "{}",
         "name": "purchase_span_days",
         "type": "\"integer\""
        },
        {
         "metadata": "{}",
         "name": "avg_quantity_per_invoice",
         "type": "\"double\""
        },
        {
         "metadata": "{}",
         "name": "recency_days",
         "type": "\"integer\""
        },
        {
         "metadata": "{}",
         "name": "2022-12",
         "type": "\"integer\""
        },
        {
         "metadata": "{}",
         "name": "2023-1",
         "type": "\"integer\""
        },
        {
         "metadata": "{}",
         "name": "2023-10",
         "type": "\"integer\""
        },
        {
         "metadata": "{}",
         "name": "2023-11",
         "type": "\"integer\""
        },
        {
         "metadata": "{}",
         "name": "2023-12",
         "type": "\"integer\""
        },
        {
         "metadata": "{}",
         "name": "2023-2",
         "type": "\"integer\""
        },
        {
         "metadata": "{}",
         "name": "2023-3",
         "type": "\"integer\""
        },
        {
         "metadata": "{}",
         "name": "2023-4",
         "type": "\"integer\""
        },
        {
         "metadata": "{}",
         "name": "2023-5",
         "type": "\"integer\""
        },
        {
         "metadata": "{}",
         "name": "2023-6",
         "type": "\"integer\""
        },
        {
         "metadata": "{}",
         "name": "2023-7",
         "type": "\"integer\""
        },
        {
         "metadata": "{}",
         "name": "2023-8",
         "type": "\"integer\""
        },
        {
         "metadata": "{}",
         "name": "2023-9",
         "type": "\"integer\""
        },
        {
         "metadata": "{}",
         "name": "2024-1",
         "type": "\"integer\""
        },
        {
         "metadata": "{}",
         "name": "2024-10",
         "type": "\"integer\""
        },
        {
         "metadata": "{}",
         "name": "2024-11",
         "type": "\"integer\""
        },
        {
         "metadata": "{}",
         "name": "2024-12",
         "type": "\"integer\""
        },
        {
         "metadata": "{}",
         "name": "2024-2",
         "type": "\"integer\""
        },
        {
         "metadata": "{}",
         "name": "2024-3",
         "type": "\"integer\""
        },
        {
         "metadata": "{}",
         "name": "2024-4",
         "type": "\"integer\""
        },
        {
         "metadata": "{}",
         "name": "2024-5",
         "type": "\"integer\""
        },
        {
         "metadata": "{}",
         "name": "2024-6",
         "type": "\"integer\""
        },
        {
         "metadata": "{}",
         "name": "2024-7",
         "type": "\"integer\""
        },
        {
         "metadata": "{}",
         "name": "2024-8",
         "type": "\"integer\""
        },
        {
         "metadata": "{}",
         "name": "2024-9",
         "type": "\"integer\""
        },
        {
         "metadata": "{}",
         "name": "prediction",
         "type": "\"integer\""
        }
       ],
       "type": "table"
      }
     },
     "output_type": "display_data"
    },
    {
     "output_type": "stream",
     "name": "stdout",
     "output_type": "stream",
     "text": [
      "Out[9]: StructType([StructField('Customer ID', IntegerType(), True), StructField('num_invoices', IntegerType(), True), StructField('num_products', IntegerType(), True), StructField('total_quantity', IntegerType(), True), StructField('total_price', DoubleType(), True), StructField('avg_unit_price', DoubleType(), True), StructField('first_purchase_date', DateType(), True), StructField('last_purchase_date', DateType(), True), StructField('purchase_span_days', IntegerType(), True), StructField('avg_quantity_per_invoice', DoubleType(), True), StructField('recency_days', IntegerType(), True), StructField('2022-12', IntegerType(), True), StructField('2023-1', IntegerType(), True), StructField('2023-10', IntegerType(), True), StructField('2023-11', IntegerType(), True), StructField('2023-12', IntegerType(), True), StructField('2023-2', IntegerType(), True), StructField('2023-3', IntegerType(), True), StructField('2023-4', IntegerType(), True), StructField('2023-5', IntegerType(), True), StructField('2023-6', IntegerType(), True), StructField('2023-7', IntegerType(), True), StructField('2023-8', IntegerType(), True), StructField('2023-9', IntegerType(), True), StructField('2024-1', IntegerType(), True), StructField('2024-10', IntegerType(), True), StructField('2024-11', IntegerType(), True), StructField('2024-12', IntegerType(), True), StructField('2024-2', IntegerType(), True), StructField('2024-3', IntegerType(), True), StructField('2024-4', IntegerType(), True), StructField('2024-5', IntegerType(), True), StructField('2024-6', IntegerType(), True), StructField('2024-7', IntegerType(), True), StructField('2024-8', IntegerType(), True), StructField('2024-9', IntegerType(), True), StructField('prediction', IntegerType(), True)])"
     ]
    }
   ],
   "source": [
    "# File location and type\n",
    "file_location = \"/FileStore/df_final.csv\"\n",
    "file_type = \"csv\"\n",
    "\n",
    "# CSV options\n",
    "infer_schema = \"true\"\n",
    "first_row_is_header = \"true\"\n",
    "delimiter = \",\"\n",
    "\n",
    "# The applied options are for CSV files. For other file types, these will be ignored.\n",
    "df_final = spark.read.format(file_type) \\\n",
    "  .option(\"inferSchema\", infer_schema) \\\n",
    "  .option(\"header\", first_row_is_header) \\\n",
    "  .option(\"sep\", delimiter) \\\n",
    "  .load(file_location)\n",
    "\n",
    "df_final.limit(10).display()\n",
    "df_final.schema\n"
   ]
  },
  {
   "cell_type": "code",
   "execution_count": 0,
   "metadata": {
    "application/vnd.databricks.v1+cell": {
     "cellMetadata": {
      "byteLimit": 2048000,
      "rowLimit": 10000
     },
     "inputWidgets": {},
     "nuid": "fc800c3e-9f81-491e-be3c-249dad9b1177",
     "showTitle": false,
     "tableResultSettingsMap": {},
     "title": ""
    }
   },
   "outputs": [
    {
     "output_type": "display_data",
     "data": {
      "text/html": [
       "<style scoped>\n",
       "  .table-result-container {\n",
       "    max-height: 300px;\n",
       "    overflow: auto;\n",
       "  }\n",
       "  table, th, td {\n",
       "    border: 1px solid black;\n",
       "    border-collapse: collapse;\n",
       "  }\n",
       "  th, td {\n",
       "    padding: 5px;\n",
       "  }\n",
       "  th {\n",
       "    text-align: left;\n",
       "  }\n",
       "</style><div class='table-result-container'><table class='table-result'><thead style='background-color: white'><tr><th>Customer ID</th><th>prediction</th></tr></thead><tbody><tr><td>13285</td><td>1</td></tr><tr><td>14570</td><td>2</td></tr><tr><td>15846</td><td>2</td></tr><tr><td>25462</td><td>1</td></tr><tr><td>17420</td><td>1</td></tr><tr><td>24171</td><td>2</td></tr><tr><td>16386</td><td>1</td></tr><tr><td>18024</td><td>1</td></tr><tr><td>15727</td><td>1</td></tr><tr><td>16339</td><td>2</td></tr></tbody></table></div>"
      ]
     },
     "metadata": {
      "application/vnd.databricks.v1+output": {
       "addedWidgets": {},
       "aggData": [],
       "aggError": "",
       "aggOverflow": false,
       "aggSchema": [],
       "aggSeriesLimitReached": false,
       "aggType": "",
       "arguments": {},
       "columnCustomDisplayInfos": {},
       "data": [
        [
         13285,
         1
        ],
        [
         14570,
         2
        ],
        [
         15846,
         2
        ],
        [
         25462,
         1
        ],
        [
         17420,
         1
        ],
        [
         24171,
         2
        ],
        [
         16386,
         1
        ],
        [
         18024,
         1
        ],
        [
         15727,
         1
        ],
        [
         16339,
         2
        ]
       ],
       "datasetInfos": [],
       "dbfsResultPath": null,
       "isJsonSchema": true,
       "metadata": {},
       "overflow": false,
       "plotOptions": {
        "customPlotOptions": {},
        "displayType": "table",
        "pivotAggregation": null,
        "pivotColumns": null,
        "xColumns": null,
        "yColumns": null
       },
       "removedWidgets": [],
       "schema": [
        {
         "metadata": "{}",
         "name": "Customer ID",
         "type": "\"integer\""
        },
        {
         "metadata": "{}",
         "name": "prediction",
         "type": "\"integer\""
        }
       ],
       "type": "table"
      }
     },
     "output_type": "display_data"
    },
    {
     "output_type": "stream",
     "name": "stdout",
     "output_type": "stream",
     "text": [
      "Out[11]: StructType([StructField('Customer ID', IntegerType(), True), StructField('prediction', IntegerType(), True)])"
     ]
    }
   ],
   "source": [
    "# In Databricks\n",
    "df_graph = df_final.select(\"Customer ID\", \"prediction\")\n",
    "\n",
    "df_graph.limit(10).display()\n",
    "df_graph.schema"
   ]
  },
  {
   "cell_type": "code",
   "execution_count": 0,
   "metadata": {
    "application/vnd.databricks.v1+cell": {
     "cellMetadata": {
      "byteLimit": 2048000,
      "rowLimit": 10000
     },
     "inputWidgets": {},
     "nuid": "ea75229f-1fae-49cd-bae5-6e310ad51317",
     "showTitle": false,
     "tableResultSettingsMap": {},
     "title": ""
    }
   },
   "outputs": [],
   "source": [
    "# Save to DBFS\n",
    "df_graph.toPandas().to_csv('/tmp/customer_clusters.csv', index=False)"
   ]
  },
  {
   "cell_type": "code",
   "execution_count": 0,
   "metadata": {
    "application/vnd.databricks.v1+cell": {
     "cellMetadata": {
      "byteLimit": 2048000,
      "rowLimit": 10000
     },
     "inputWidgets": {},
     "nuid": "9d4e06eb-d5f9-4c20-913f-e059b1edc526",
     "showTitle": false,
     "tableResultSettingsMap": {},
     "title": ""
    }
   },
   "outputs": [
    {
     "output_type": "display_data",
     "data": {
      "text/plain": [
       "\u001B[0;36m  File \u001B[0;32m<command-3617033263597512>:1\u001B[0;36m\u001B[0m\n",
       "\u001B[0;31m    ~/Neo4j/your-project-name/import/customer_clusters.csv\u001B[0m\n",
       "\u001B[0m     ^\u001B[0m\n",
       "\u001B[0;31mSyntaxError\u001B[0m\u001B[0;31m:\u001B[0m invalid syntax\n"
      ]
     },
     "metadata": {
      "application/vnd.databricks.v1+output": {
       "arguments": {},
       "data": "\u001B[0;36m  File \u001B[0;32m<command-3617033263597512>:1\u001B[0;36m\u001B[0m\n\u001B[0;31m    ~/Neo4j/your-project-name/import/customer_clusters.csv\u001B[0m\n\u001B[0m     ^\u001B[0m\n\u001B[0;31mSyntaxError\u001B[0m\u001B[0;31m:\u001B[0m invalid syntax\n",
       "errorSummary": "<span class='ansi-red-fg'>SyntaxError</span>: invalid syntax (<command-3617033263597512>, line 1)",
       "errorTraceType": "ansi",
       "metadata": {},
       "type": "ipynbError"
      }
     },
     "output_type": "display_data"
    }
   ],
   "source": [
    "~/Neo4j/your-project-name/import/customer_clusters.csv"
   ]
  }
 ],
 "metadata": {
  "application/vnd.databricks.v1+notebook": {
   "computePreferences": null,
   "dashboards": [],
   "environmentMetadata": {
    "base_environment": "",
    "environment_version": "1"
   },
   "inputWidgetPreferences": null,
   "language": "python",
   "notebookMetadata": {
    "pythonIndentUnit": 4
   },
   "notebookName": "Graph",
   "widgets": {}
  }
 },
 "nbformat": 4,
 "nbformat_minor": 0
}